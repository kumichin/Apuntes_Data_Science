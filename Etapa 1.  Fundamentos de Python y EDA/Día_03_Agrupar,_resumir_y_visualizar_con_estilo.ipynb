{
  "nbformat": 4,
  "nbformat_minor": 0,
  "metadata": {
    "colab": {
      "provenance": []
    },
    "kernelspec": {
      "name": "python3",
      "display_name": "Python 3"
    },
    "language_info": {
      "name": "python"
    }
  },
  "cells": [
    {
      "cell_type": "markdown",
      "source": [
        "# DÍA 3 — Agrupar, resumir y visualizar con estilo"
      ],
      "metadata": {
        "id": "VUqpeGw5us_B"
      }
    },
    {
      "cell_type": "markdown",
      "source": [
        "## Empezamos el día con algo muy interesante\n",
        "### En el día anterior construimos un diccionario y lo convertimos en un dataset para poder trabajar con él. aprovechando que volvemos a tener que trabajar con el mismo DataFrame... **Vamos a aprender a exportar el DataFrame a CSV** Esto nos permitirá persistir nuestros datos y reutilizarlos fácilmente en cualquier otro cuaderno o entorno, sin necesidad de recrearlo cada vez..\n",
        "\n",
        "1. **Primero repetimos lo del dia anterior:** para construir el diccionario y convertirlo en un DataFrame.\n",
        "\n",
        "2. **En este paso guardaremos el DataFrame como un archivo CSV** (df_criaturas.to_csv('criaturas_magicas_mitologicas.csv', index=False))\n",
        "\n",
        "3. **En este paso lo haremos descargable para poder descargarlo directamente desde el ordenador y hacerlo reutilizable en otros analisis y trabajos.**\n",
        "\n",
        "¡¡Comenzamos!!"
      ],
      "metadata": {
        "id": "As8cikxruw-h"
      }
    },
    {
      "cell_type": "code",
      "source": [
        "# Creamos el diccionario llamado Datos y lo convertimos en un DataFrame al que llamamos criaturas\n",
        "\n",
        "import pandas as pd\n",
        "\n",
        "datos = {\n",
        "    \"Nombre\": [\"Fénix\", \"Dragón\", \"Unicornio\", \"Quimera\", \"Hada\", \"Basilisco\", \"Pegaso\", \"Kraken\", \"Gólem\", \"Leviatán\"],\n",
        "    \"Elemento\": [\"Fuego\", \"Fuego\", \"Luz\", \"Fuego\", \"Aire\", \"Oscuridad\", \"Aire\", \"Agua\", \"Tierra\", \"Agua\"],\n",
        "    \"Origen\": [\"Egipto\", \"China\", \"Europa\", \"Grecia\", \"Bosque\", \"Leyenda\", \"Grecia\", \"Mitología nórdica\", \"Cábala\", \"Biblia\"],\n",
        "    \"Poder\": [95, 100, 85, 92, 60, 97, 80, 99, 70, 98],\n",
        "    \"Amistoso\": [True, False, True, False, True, False, True, False, False, False],\n",
        "    \"Extinto\": [True, False, False, True, False, True, False, False, False, True]\n",
        "}\n",
        "\n",
        "criaturas = pd.DataFrame(datos)\n"
      ],
      "metadata": {
        "id": "AR_XGSGlx6vv"
      },
      "execution_count": null,
      "outputs": []
    },
    {
      "cell_type": "code",
      "source": [
        "# Guardamos el archivo como un CSV\n",
        "\n",
        "criaturas.to_csv(\"criaturas_magicas.csv\", index=False)"
      ],
      "metadata": {
        "id": "k717elgK2U2H"
      },
      "execution_count": null,
      "outputs": []
    },
    {
      "cell_type": "markdown",
      "source": [
        "### Para guardar el DataFrame como un archivo CSV en nuestro entorno de trabajo (en este caso, Google Colab), usamos el método .to_csv(). Es crucial añadir index=False para evitar que pandas escriba el índice del DataFrame como una columna adicional en el archivo CSV, ya que rara vez es necesario y puede generar una columna redundante.\n",
        "\n",
        "* Usas index=False cuando:\n",
        "\n",
        " 1.  No quieres guardar el índice.\n",
        "\n",
        " 2. Quieres un archivo CSV más limpio, como una simple tabla.\n",
        "\n",
        " 3. No necesitas esa columna extra para nada.\n",
        "\n",
        " En este caso concreto, como el indice no tiene significado especial, solo enumera las filas, es mejor no guardarlo.\n"
      ],
      "metadata": {
        "id": "BeXhtZLa3EZ2"
      }
    },
    {
      "cell_type": "code",
      "source": [
        "# Lo hacemos descargable en google colab para poder descargarlo directamente en el ordenador.\n",
        "\n",
        "from google.colab import files\n",
        "files.download(\"criaturas_magicas.csv\")"
      ],
      "metadata": {
        "colab": {
          "base_uri": "https://localhost:8080/",
          "height": 17
        },
        "id": "KaBhBSXG37Lt",
        "outputId": "b98c89ab-079b-449c-b841-0c19bfa84e60"
      },
      "execution_count": null,
      "outputs": [
        {
          "output_type": "display_data",
          "data": {
            "text/plain": [
              "<IPython.core.display.Javascript object>"
            ],
            "application/javascript": [
              "\n",
              "    async function download(id, filename, size) {\n",
              "      if (!google.colab.kernel.accessAllowed) {\n",
              "        return;\n",
              "      }\n",
              "      const div = document.createElement('div');\n",
              "      const label = document.createElement('label');\n",
              "      label.textContent = `Downloading \"${filename}\": `;\n",
              "      div.appendChild(label);\n",
              "      const progress = document.createElement('progress');\n",
              "      progress.max = size;\n",
              "      div.appendChild(progress);\n",
              "      document.body.appendChild(div);\n",
              "\n",
              "      const buffers = [];\n",
              "      let downloaded = 0;\n",
              "\n",
              "      const channel = await google.colab.kernel.comms.open(id);\n",
              "      // Send a message to notify the kernel that we're ready.\n",
              "      channel.send({})\n",
              "\n",
              "      for await (const message of channel.messages) {\n",
              "        // Send a message to notify the kernel that we're ready.\n",
              "        channel.send({})\n",
              "        if (message.buffers) {\n",
              "          for (const buffer of message.buffers) {\n",
              "            buffers.push(buffer);\n",
              "            downloaded += buffer.byteLength;\n",
              "            progress.value = downloaded;\n",
              "          }\n",
              "        }\n",
              "      }\n",
              "      const blob = new Blob(buffers, {type: 'application/binary'});\n",
              "      const a = document.createElement('a');\n",
              "      a.href = window.URL.createObjectURL(blob);\n",
              "      a.download = filename;\n",
              "      div.appendChild(a);\n",
              "      a.click();\n",
              "      div.remove();\n",
              "    }\n",
              "  "
            ]
          },
          "metadata": {}
        },
        {
          "output_type": "display_data",
          "data": {
            "text/plain": [
              "<IPython.core.display.Javascript object>"
            ],
            "application/javascript": [
              "download(\"download_feaf3799-5075-45bd-a984-2ec8485c2f7e\", \"criaturas_magicas.csv\", 411)"
            ]
          },
          "metadata": {}
        }
      ]
    },
    {
      "cell_type": "markdown",
      "source": [
        "#### Con los pasos anteriores ya tenemos el DataFrame creado, convertido en CSV y descargado. todo listo,\n",
        "### ahora lo que toca es cargarlo para empezar a trabajar con el"
      ],
      "metadata": {
        "id": "SaBUSvQs5LOH"
      }
    },
    {
      "cell_type": "code",
      "source": [
        "# cargamos el csv y lo llamamos criaturas2\n",
        "criaturas2 = pd.read_csv(\"criaturas_magicas.csv\")"
      ],
      "metadata": {
        "id": "cJcTBA0W59Es"
      },
      "execution_count": null,
      "outputs": []
    },
    {
      "cell_type": "markdown",
      "source": [
        "### Como vimos en el dia 2, comenzamos con una exploración inicial"
      ],
      "metadata": {
        "id": "SuJHDy8Wuh36"
      }
    },
    {
      "cell_type": "code",
      "source": [
        "#vamos a ver las 5 primeras lineas de nuestro DataFrame recien cargado\n",
        "criaturas2.head()"
      ],
      "metadata": {
        "colab": {
          "base_uri": "https://localhost:8080/",
          "height": 206
        },
        "id": "cj0uqTM16OFa",
        "outputId": "1eb251d1-eb4d-4ce5-9135-a66e36cffeb0"
      },
      "execution_count": null,
      "outputs": [
        {
          "output_type": "execute_result",
          "data": {
            "text/plain": [
              "      Nombre Elemento  Origen  Poder  Amistoso  Extinto\n",
              "0      Fénix    Fuego  Egipto     95      True     True\n",
              "1     Dragón    Fuego   China    100     False    False\n",
              "2  Unicornio      Luz  Europa     85      True    False\n",
              "3    Quimera    Fuego  Grecia     92     False     True\n",
              "4       Hada     Aire  Bosque     60      True    False"
            ],
            "text/html": [
              "\n",
              "  <div id=\"df-5150e186-7ea5-48d1-b522-456d3c869712\" class=\"colab-df-container\">\n",
              "    <div>\n",
              "<style scoped>\n",
              "    .dataframe tbody tr th:only-of-type {\n",
              "        vertical-align: middle;\n",
              "    }\n",
              "\n",
              "    .dataframe tbody tr th {\n",
              "        vertical-align: top;\n",
              "    }\n",
              "\n",
              "    .dataframe thead th {\n",
              "        text-align: right;\n",
              "    }\n",
              "</style>\n",
              "<table border=\"1\" class=\"dataframe\">\n",
              "  <thead>\n",
              "    <tr style=\"text-align: right;\">\n",
              "      <th></th>\n",
              "      <th>Nombre</th>\n",
              "      <th>Elemento</th>\n",
              "      <th>Origen</th>\n",
              "      <th>Poder</th>\n",
              "      <th>Amistoso</th>\n",
              "      <th>Extinto</th>\n",
              "    </tr>\n",
              "  </thead>\n",
              "  <tbody>\n",
              "    <tr>\n",
              "      <th>0</th>\n",
              "      <td>Fénix</td>\n",
              "      <td>Fuego</td>\n",
              "      <td>Egipto</td>\n",
              "      <td>95</td>\n",
              "      <td>True</td>\n",
              "      <td>True</td>\n",
              "    </tr>\n",
              "    <tr>\n",
              "      <th>1</th>\n",
              "      <td>Dragón</td>\n",
              "      <td>Fuego</td>\n",
              "      <td>China</td>\n",
              "      <td>100</td>\n",
              "      <td>False</td>\n",
              "      <td>False</td>\n",
              "    </tr>\n",
              "    <tr>\n",
              "      <th>2</th>\n",
              "      <td>Unicornio</td>\n",
              "      <td>Luz</td>\n",
              "      <td>Europa</td>\n",
              "      <td>85</td>\n",
              "      <td>True</td>\n",
              "      <td>False</td>\n",
              "    </tr>\n",
              "    <tr>\n",
              "      <th>3</th>\n",
              "      <td>Quimera</td>\n",
              "      <td>Fuego</td>\n",
              "      <td>Grecia</td>\n",
              "      <td>92</td>\n",
              "      <td>False</td>\n",
              "      <td>True</td>\n",
              "    </tr>\n",
              "    <tr>\n",
              "      <th>4</th>\n",
              "      <td>Hada</td>\n",
              "      <td>Aire</td>\n",
              "      <td>Bosque</td>\n",
              "      <td>60</td>\n",
              "      <td>True</td>\n",
              "      <td>False</td>\n",
              "    </tr>\n",
              "  </tbody>\n",
              "</table>\n",
              "</div>\n",
              "    <div class=\"colab-df-buttons\">\n",
              "\n",
              "  <div class=\"colab-df-container\">\n",
              "    <button class=\"colab-df-convert\" onclick=\"convertToInteractive('df-5150e186-7ea5-48d1-b522-456d3c869712')\"\n",
              "            title=\"Convert this dataframe to an interactive table.\"\n",
              "            style=\"display:none;\">\n",
              "\n",
              "  <svg xmlns=\"http://www.w3.org/2000/svg\" height=\"24px\" viewBox=\"0 -960 960 960\">\n",
              "    <path d=\"M120-120v-720h720v720H120Zm60-500h600v-160H180v160Zm220 220h160v-160H400v160Zm0 220h160v-160H400v160ZM180-400h160v-160H180v160Zm440 0h160v-160H620v160ZM180-180h160v-160H180v160Zm440 0h160v-160H620v160Z\"/>\n",
              "  </svg>\n",
              "    </button>\n",
              "\n",
              "  <style>\n",
              "    .colab-df-container {\n",
              "      display:flex;\n",
              "      gap: 12px;\n",
              "    }\n",
              "\n",
              "    .colab-df-convert {\n",
              "      background-color: #E8F0FE;\n",
              "      border: none;\n",
              "      border-radius: 50%;\n",
              "      cursor: pointer;\n",
              "      display: none;\n",
              "      fill: #1967D2;\n",
              "      height: 32px;\n",
              "      padding: 0 0 0 0;\n",
              "      width: 32px;\n",
              "    }\n",
              "\n",
              "    .colab-df-convert:hover {\n",
              "      background-color: #E2EBFA;\n",
              "      box-shadow: 0px 1px 2px rgba(60, 64, 67, 0.3), 0px 1px 3px 1px rgba(60, 64, 67, 0.15);\n",
              "      fill: #174EA6;\n",
              "    }\n",
              "\n",
              "    .colab-df-buttons div {\n",
              "      margin-bottom: 4px;\n",
              "    }\n",
              "\n",
              "    [theme=dark] .colab-df-convert {\n",
              "      background-color: #3B4455;\n",
              "      fill: #D2E3FC;\n",
              "    }\n",
              "\n",
              "    [theme=dark] .colab-df-convert:hover {\n",
              "      background-color: #434B5C;\n",
              "      box-shadow: 0px 1px 3px 1px rgba(0, 0, 0, 0.15);\n",
              "      filter: drop-shadow(0px 1px 2px rgba(0, 0, 0, 0.3));\n",
              "      fill: #FFFFFF;\n",
              "    }\n",
              "  </style>\n",
              "\n",
              "    <script>\n",
              "      const buttonEl =\n",
              "        document.querySelector('#df-5150e186-7ea5-48d1-b522-456d3c869712 button.colab-df-convert');\n",
              "      buttonEl.style.display =\n",
              "        google.colab.kernel.accessAllowed ? 'block' : 'none';\n",
              "\n",
              "      async function convertToInteractive(key) {\n",
              "        const element = document.querySelector('#df-5150e186-7ea5-48d1-b522-456d3c869712');\n",
              "        const dataTable =\n",
              "          await google.colab.kernel.invokeFunction('convertToInteractive',\n",
              "                                                    [key], {});\n",
              "        if (!dataTable) return;\n",
              "\n",
              "        const docLinkHtml = 'Like what you see? Visit the ' +\n",
              "          '<a target=\"_blank\" href=https://colab.research.google.com/notebooks/data_table.ipynb>data table notebook</a>'\n",
              "          + ' to learn more about interactive tables.';\n",
              "        element.innerHTML = '';\n",
              "        dataTable['output_type'] = 'display_data';\n",
              "        await google.colab.output.renderOutput(dataTable, element);\n",
              "        const docLink = document.createElement('div');\n",
              "        docLink.innerHTML = docLinkHtml;\n",
              "        element.appendChild(docLink);\n",
              "      }\n",
              "    </script>\n",
              "  </div>\n",
              "\n",
              "\n",
              "    <div id=\"df-09c7155d-67d5-445b-8c45-d24850952f27\">\n",
              "      <button class=\"colab-df-quickchart\" onclick=\"quickchart('df-09c7155d-67d5-445b-8c45-d24850952f27')\"\n",
              "                title=\"Suggest charts\"\n",
              "                style=\"display:none;\">\n",
              "\n",
              "<svg xmlns=\"http://www.w3.org/2000/svg\" height=\"24px\"viewBox=\"0 0 24 24\"\n",
              "     width=\"24px\">\n",
              "    <g>\n",
              "        <path d=\"M19 3H5c-1.1 0-2 .9-2 2v14c0 1.1.9 2 2 2h14c1.1 0 2-.9 2-2V5c0-1.1-.9-2-2-2zM9 17H7v-7h2v7zm4 0h-2V7h2v10zm4 0h-2v-4h2v4z\"/>\n",
              "    </g>\n",
              "</svg>\n",
              "      </button>\n",
              "\n",
              "<style>\n",
              "  .colab-df-quickchart {\n",
              "      --bg-color: #E8F0FE;\n",
              "      --fill-color: #1967D2;\n",
              "      --hover-bg-color: #E2EBFA;\n",
              "      --hover-fill-color: #174EA6;\n",
              "      --disabled-fill-color: #AAA;\n",
              "      --disabled-bg-color: #DDD;\n",
              "  }\n",
              "\n",
              "  [theme=dark] .colab-df-quickchart {\n",
              "      --bg-color: #3B4455;\n",
              "      --fill-color: #D2E3FC;\n",
              "      --hover-bg-color: #434B5C;\n",
              "      --hover-fill-color: #FFFFFF;\n",
              "      --disabled-bg-color: #3B4455;\n",
              "      --disabled-fill-color: #666;\n",
              "  }\n",
              "\n",
              "  .colab-df-quickchart {\n",
              "    background-color: var(--bg-color);\n",
              "    border: none;\n",
              "    border-radius: 50%;\n",
              "    cursor: pointer;\n",
              "    display: none;\n",
              "    fill: var(--fill-color);\n",
              "    height: 32px;\n",
              "    padding: 0;\n",
              "    width: 32px;\n",
              "  }\n",
              "\n",
              "  .colab-df-quickchart:hover {\n",
              "    background-color: var(--hover-bg-color);\n",
              "    box-shadow: 0 1px 2px rgba(60, 64, 67, 0.3), 0 1px 3px 1px rgba(60, 64, 67, 0.15);\n",
              "    fill: var(--button-hover-fill-color);\n",
              "  }\n",
              "\n",
              "  .colab-df-quickchart-complete:disabled,\n",
              "  .colab-df-quickchart-complete:disabled:hover {\n",
              "    background-color: var(--disabled-bg-color);\n",
              "    fill: var(--disabled-fill-color);\n",
              "    box-shadow: none;\n",
              "  }\n",
              "\n",
              "  .colab-df-spinner {\n",
              "    border: 2px solid var(--fill-color);\n",
              "    border-color: transparent;\n",
              "    border-bottom-color: var(--fill-color);\n",
              "    animation:\n",
              "      spin 1s steps(1) infinite;\n",
              "  }\n",
              "\n",
              "  @keyframes spin {\n",
              "    0% {\n",
              "      border-color: transparent;\n",
              "      border-bottom-color: var(--fill-color);\n",
              "      border-left-color: var(--fill-color);\n",
              "    }\n",
              "    20% {\n",
              "      border-color: transparent;\n",
              "      border-left-color: var(--fill-color);\n",
              "      border-top-color: var(--fill-color);\n",
              "    }\n",
              "    30% {\n",
              "      border-color: transparent;\n",
              "      border-left-color: var(--fill-color);\n",
              "      border-top-color: var(--fill-color);\n",
              "      border-right-color: var(--fill-color);\n",
              "    }\n",
              "    40% {\n",
              "      border-color: transparent;\n",
              "      border-right-color: var(--fill-color);\n",
              "      border-top-color: var(--fill-color);\n",
              "    }\n",
              "    60% {\n",
              "      border-color: transparent;\n",
              "      border-right-color: var(--fill-color);\n",
              "    }\n",
              "    80% {\n",
              "      border-color: transparent;\n",
              "      border-right-color: var(--fill-color);\n",
              "      border-bottom-color: var(--fill-color);\n",
              "    }\n",
              "    90% {\n",
              "      border-color: transparent;\n",
              "      border-bottom-color: var(--fill-color);\n",
              "    }\n",
              "  }\n",
              "</style>\n",
              "\n",
              "      <script>\n",
              "        async function quickchart(key) {\n",
              "          const quickchartButtonEl =\n",
              "            document.querySelector('#' + key + ' button');\n",
              "          quickchartButtonEl.disabled = true;  // To prevent multiple clicks.\n",
              "          quickchartButtonEl.classList.add('colab-df-spinner');\n",
              "          try {\n",
              "            const charts = await google.colab.kernel.invokeFunction(\n",
              "                'suggestCharts', [key], {});\n",
              "          } catch (error) {\n",
              "            console.error('Error during call to suggestCharts:', error);\n",
              "          }\n",
              "          quickchartButtonEl.classList.remove('colab-df-spinner');\n",
              "          quickchartButtonEl.classList.add('colab-df-quickchart-complete');\n",
              "        }\n",
              "        (() => {\n",
              "          let quickchartButtonEl =\n",
              "            document.querySelector('#df-09c7155d-67d5-445b-8c45-d24850952f27 button');\n",
              "          quickchartButtonEl.style.display =\n",
              "            google.colab.kernel.accessAllowed ? 'block' : 'none';\n",
              "        })();\n",
              "      </script>\n",
              "    </div>\n",
              "\n",
              "    </div>\n",
              "  </div>\n"
            ],
            "application/vnd.google.colaboratory.intrinsic+json": {
              "type": "dataframe",
              "variable_name": "criaturas2",
              "summary": "{\n  \"name\": \"criaturas2\",\n  \"rows\": 10,\n  \"fields\": [\n    {\n      \"column\": \"Nombre\",\n      \"properties\": {\n        \"dtype\": \"string\",\n        \"num_unique_values\": 10,\n        \"samples\": [\n          \"G\\u00f3lem\",\n          \"Drag\\u00f3n\",\n          \"Basilisco\"\n        ],\n        \"semantic_type\": \"\",\n        \"description\": \"\"\n      }\n    },\n    {\n      \"column\": \"Elemento\",\n      \"properties\": {\n        \"dtype\": \"string\",\n        \"num_unique_values\": 6,\n        \"samples\": [\n          \"Fuego\",\n          \"Luz\",\n          \"Tierra\"\n        ],\n        \"semantic_type\": \"\",\n        \"description\": \"\"\n      }\n    },\n    {\n      \"column\": \"Origen\",\n      \"properties\": {\n        \"dtype\": \"string\",\n        \"num_unique_values\": 9,\n        \"samples\": [\n          \"C\\u00e1bala\",\n          \"China\",\n          \"Leyenda\"\n        ],\n        \"semantic_type\": \"\",\n        \"description\": \"\"\n      }\n    },\n    {\n      \"column\": \"Poder\",\n      \"properties\": {\n        \"dtype\": \"number\",\n        \"std\": 13,\n        \"min\": 60,\n        \"max\": 100,\n        \"num_unique_values\": 10,\n        \"samples\": [\n          70,\n          100,\n          97\n        ],\n        \"semantic_type\": \"\",\n        \"description\": \"\"\n      }\n    },\n    {\n      \"column\": \"Amistoso\",\n      \"properties\": {\n        \"dtype\": \"boolean\",\n        \"num_unique_values\": 2,\n        \"samples\": [\n          false,\n          true\n        ],\n        \"semantic_type\": \"\",\n        \"description\": \"\"\n      }\n    },\n    {\n      \"column\": \"Extinto\",\n      \"properties\": {\n        \"dtype\": \"boolean\",\n        \"num_unique_values\": 2,\n        \"samples\": [\n          false,\n          true\n        ],\n        \"semantic_type\": \"\",\n        \"description\": \"\"\n      }\n    }\n  ]\n}"
            }
          },
          "metadata": {},
          "execution_count": 5
        }
      ]
    },
    {
      "cell_type": "markdown",
      "source": [
        "#### Vemos que hay mucha información de las criaturas mágicas, su nombre, elemento e incluso si son amistosas o estan extinguidas.\n",
        "\n",
        "#### Este dataset permitirá explorar muchos matices de las criaturas mágicas y poder sacar conclusiones interesantes.\n"
      ],
      "metadata": {
        "id": "F2scXUCswcrI"
      }
    },
    {
      "cell_type": "markdown",
      "source": [
        "##🧙‍♀️ Agrupando y Resumiendo Datos: Desvelando Patrones Escondidos\n",
        "\n",
        "#### Cuando tienes muchas criaturas y quieres ver patrones, agruparlas es como organizarlas por casas de Hogwarts\n",
        "\n",
        "#### Imagina que queremos saber cuántas criaturas hay de cada elemento... o cuál es el nivel de poder promedio de las criaturas de fuego vs. las de agua. Para esto, necesitamos agrupar nuestros datos. Aquí es donde entra en juego la magia de .groupby()."
      ],
      "metadata": {
        "id": "HpLtZeNE6qA4"
      }
    },
    {
      "cell_type": "markdown",
      "source": [
        "#### .groupby(): \"El método .groupby() nos permite dividir el DataFrame en grupos basados en los valores de una o más columnas."
      ],
      "metadata": {
        "id": "E0DRWxG9vVdK"
      }
    },
    {
      "cell_type": "markdown",
      "source": [
        "#### Si queremos el promedio de una columna numérica por grupo, usamos .mean()."
      ],
      "metadata": {
        "id": "J-c_sM5vA-pO"
      }
    },
    {
      "cell_type": "code",
      "source": [
        "# Ver el poder medio por elemento\n",
        "criaturas2.groupby(\"Elemento\")[\"Poder\"].mean()\n",
        "\n",
        "# groupby(\"Elemento\") agrupa por la columna \"Elemento\" (Fuego, Aire...)\n",
        "# [\"Poder\"].mean() calcula el promedio (media) de poder por grupo"
      ],
      "metadata": {
        "colab": {
          "base_uri": "https://localhost:8080/",
          "height": 303
        },
        "id": "9hVtPAue6l0M",
        "outputId": "65edc569-0b40-4841-c970-1c58a010c379"
      },
      "execution_count": null,
      "outputs": [
        {
          "output_type": "execute_result",
          "data": {
            "text/plain": [
              "Elemento\n",
              "Agua         98.500000\n",
              "Aire         70.000000\n",
              "Fuego        95.666667\n",
              "Luz          85.000000\n",
              "Oscuridad    97.000000\n",
              "Tierra       70.000000\n",
              "Name: Poder, dtype: float64"
            ],
            "text/html": [
              "<div>\n",
              "<style scoped>\n",
              "    .dataframe tbody tr th:only-of-type {\n",
              "        vertical-align: middle;\n",
              "    }\n",
              "\n",
              "    .dataframe tbody tr th {\n",
              "        vertical-align: top;\n",
              "    }\n",
              "\n",
              "    .dataframe thead th {\n",
              "        text-align: right;\n",
              "    }\n",
              "</style>\n",
              "<table border=\"1\" class=\"dataframe\">\n",
              "  <thead>\n",
              "    <tr style=\"text-align: right;\">\n",
              "      <th></th>\n",
              "      <th>Poder</th>\n",
              "    </tr>\n",
              "    <tr>\n",
              "      <th>Elemento</th>\n",
              "      <th></th>\n",
              "    </tr>\n",
              "  </thead>\n",
              "  <tbody>\n",
              "    <tr>\n",
              "      <th>Agua</th>\n",
              "      <td>98.500000</td>\n",
              "    </tr>\n",
              "    <tr>\n",
              "      <th>Aire</th>\n",
              "      <td>70.000000</td>\n",
              "    </tr>\n",
              "    <tr>\n",
              "      <th>Fuego</th>\n",
              "      <td>95.666667</td>\n",
              "    </tr>\n",
              "    <tr>\n",
              "      <th>Luz</th>\n",
              "      <td>85.000000</td>\n",
              "    </tr>\n",
              "    <tr>\n",
              "      <th>Oscuridad</th>\n",
              "      <td>97.000000</td>\n",
              "    </tr>\n",
              "    <tr>\n",
              "      <th>Tierra</th>\n",
              "      <td>70.000000</td>\n",
              "    </tr>\n",
              "  </tbody>\n",
              "</table>\n",
              "</div><br><label><b>dtype:</b> float64</label>"
            ]
          },
          "metadata": {},
          "execution_count": 6
        }
      ]
    },
    {
      "cell_type": "markdown",
      "source": [
        "#### ¡Listo!, tenemos un ranking genial del poder de las criaturas por elemento."
      ],
      "metadata": {
        "id": "FBRGjFivwSiT"
      }
    },
    {
      "cell_type": "markdown",
      "source": [
        "#### Si queremos contar cuántas criaturas hay en cada grupo (Elemento), podemos combinar .groupby() con .size()."
      ],
      "metadata": {
        "id": "gF-1OqLcv7To"
      }
    },
    {
      "cell_type": "code",
      "source": [
        "criaturas2.groupby('Elemento').size()"
      ],
      "metadata": {
        "colab": {
          "base_uri": "https://localhost:8080/",
          "height": 303
        },
        "id": "Gq8v25lFv-lE",
        "outputId": "90391942-8680-4d9b-ece8-b27db9673366"
      },
      "execution_count": null,
      "outputs": [
        {
          "output_type": "execute_result",
          "data": {
            "text/plain": [
              "Elemento\n",
              "Agua         2\n",
              "Aire         2\n",
              "Fuego        3\n",
              "Luz          1\n",
              "Oscuridad    1\n",
              "Tierra       1\n",
              "dtype: int64"
            ],
            "text/html": [
              "<div>\n",
              "<style scoped>\n",
              "    .dataframe tbody tr th:only-of-type {\n",
              "        vertical-align: middle;\n",
              "    }\n",
              "\n",
              "    .dataframe tbody tr th {\n",
              "        vertical-align: top;\n",
              "    }\n",
              "\n",
              "    .dataframe thead th {\n",
              "        text-align: right;\n",
              "    }\n",
              "</style>\n",
              "<table border=\"1\" class=\"dataframe\">\n",
              "  <thead>\n",
              "    <tr style=\"text-align: right;\">\n",
              "      <th></th>\n",
              "      <th>0</th>\n",
              "    </tr>\n",
              "    <tr>\n",
              "      <th>Elemento</th>\n",
              "      <th></th>\n",
              "    </tr>\n",
              "  </thead>\n",
              "  <tbody>\n",
              "    <tr>\n",
              "      <th>Agua</th>\n",
              "      <td>2</td>\n",
              "    </tr>\n",
              "    <tr>\n",
              "      <th>Aire</th>\n",
              "      <td>2</td>\n",
              "    </tr>\n",
              "    <tr>\n",
              "      <th>Fuego</th>\n",
              "      <td>3</td>\n",
              "    </tr>\n",
              "    <tr>\n",
              "      <th>Luz</th>\n",
              "      <td>1</td>\n",
              "    </tr>\n",
              "    <tr>\n",
              "      <th>Oscuridad</th>\n",
              "      <td>1</td>\n",
              "    </tr>\n",
              "    <tr>\n",
              "      <th>Tierra</th>\n",
              "      <td>1</td>\n",
              "    </tr>\n",
              "  </tbody>\n",
              "</table>\n",
              "</div><br><label><b>dtype:</b> int64</label>"
            ]
          },
          "metadata": {},
          "execution_count": 10
        }
      ]
    },
    {
      "cell_type": "markdown",
      "source": [
        "#### ¡Misión cumplida! Ahora sabemos que en nuestro reino mágico, las criaturas de Fuego son las más numerosas, seguidas por las de Tierra. ¿Curioso, verdad? Esto ya nos da una primera idea de la demografía elemental."
      ],
      "metadata": {
        "id": "meskxTcIwOst"
      }
    },
    {
      "cell_type": "markdown",
      "source": [
        "## Ejercicios:\n",
        "### Escríbelos tú para practicar más:\n",
        "1. ¿Cuál es el poder máximo por Origen?\n",
        "\n",
        "2. ¿Cuántas criaturas hay por Elemento?\n",
        "\n",
        "3. ¿Qué elemento tiene el poder promedio más alto?"
      ],
      "metadata": {
        "id": "juDzA1ND7zGw"
      }
    },
    {
      "cell_type": "code",
      "source": [
        "# Poder maximo por origen\n",
        "\n",
        "criaturas2.groupby(\"Origen\")['Poder'].max()"
      ],
      "metadata": {
        "colab": {
          "base_uri": "https://localhost:8080/",
          "height": 397
        },
        "id": "dShAn5gID7dU",
        "outputId": "f39da2e8-379f-4132-a196-aa58186474c5"
      },
      "execution_count": null,
      "outputs": [
        {
          "output_type": "execute_result",
          "data": {
            "text/plain": [
              "Origen\n",
              "Biblia                98\n",
              "Bosque                60\n",
              "China                100\n",
              "Cábala                70\n",
              "Egipto                95\n",
              "Europa                85\n",
              "Grecia                92\n",
              "Leyenda               97\n",
              "Mitología nórdica     99\n",
              "Name: Poder, dtype: int64"
            ],
            "text/html": [
              "<div>\n",
              "<style scoped>\n",
              "    .dataframe tbody tr th:only-of-type {\n",
              "        vertical-align: middle;\n",
              "    }\n",
              "\n",
              "    .dataframe tbody tr th {\n",
              "        vertical-align: top;\n",
              "    }\n",
              "\n",
              "    .dataframe thead th {\n",
              "        text-align: right;\n",
              "    }\n",
              "</style>\n",
              "<table border=\"1\" class=\"dataframe\">\n",
              "  <thead>\n",
              "    <tr style=\"text-align: right;\">\n",
              "      <th></th>\n",
              "      <th>Poder</th>\n",
              "    </tr>\n",
              "    <tr>\n",
              "      <th>Origen</th>\n",
              "      <th></th>\n",
              "    </tr>\n",
              "  </thead>\n",
              "  <tbody>\n",
              "    <tr>\n",
              "      <th>Biblia</th>\n",
              "      <td>98</td>\n",
              "    </tr>\n",
              "    <tr>\n",
              "      <th>Bosque</th>\n",
              "      <td>60</td>\n",
              "    </tr>\n",
              "    <tr>\n",
              "      <th>China</th>\n",
              "      <td>100</td>\n",
              "    </tr>\n",
              "    <tr>\n",
              "      <th>Cábala</th>\n",
              "      <td>70</td>\n",
              "    </tr>\n",
              "    <tr>\n",
              "      <th>Egipto</th>\n",
              "      <td>95</td>\n",
              "    </tr>\n",
              "    <tr>\n",
              "      <th>Europa</th>\n",
              "      <td>85</td>\n",
              "    </tr>\n",
              "    <tr>\n",
              "      <th>Grecia</th>\n",
              "      <td>92</td>\n",
              "    </tr>\n",
              "    <tr>\n",
              "      <th>Leyenda</th>\n",
              "      <td>97</td>\n",
              "    </tr>\n",
              "    <tr>\n",
              "      <th>Mitología nórdica</th>\n",
              "      <td>99</td>\n",
              "    </tr>\n",
              "  </tbody>\n",
              "</table>\n",
              "</div><br><label><b>dtype:</b> int64</label>"
            ]
          },
          "metadata": {},
          "execution_count": 7
        }
      ]
    },
    {
      "cell_type": "code",
      "source": [
        "# Cantidad de criaturas que hay por elemento\n",
        "criaturas2[\"Elemento\"].value_counts()"
      ],
      "metadata": {
        "colab": {
          "base_uri": "https://localhost:8080/",
          "height": 303
        },
        "id": "CainDSY5FVPS",
        "outputId": "ce176ebd-5d56-4869-b9db-40be423df83c"
      },
      "execution_count": null,
      "outputs": [
        {
          "output_type": "execute_result",
          "data": {
            "text/plain": [
              "Elemento\n",
              "Fuego        3\n",
              "Aire         2\n",
              "Agua         2\n",
              "Luz          1\n",
              "Oscuridad    1\n",
              "Tierra       1\n",
              "Name: count, dtype: int64"
            ],
            "text/html": [
              "<div>\n",
              "<style scoped>\n",
              "    .dataframe tbody tr th:only-of-type {\n",
              "        vertical-align: middle;\n",
              "    }\n",
              "\n",
              "    .dataframe tbody tr th {\n",
              "        vertical-align: top;\n",
              "    }\n",
              "\n",
              "    .dataframe thead th {\n",
              "        text-align: right;\n",
              "    }\n",
              "</style>\n",
              "<table border=\"1\" class=\"dataframe\">\n",
              "  <thead>\n",
              "    <tr style=\"text-align: right;\">\n",
              "      <th></th>\n",
              "      <th>count</th>\n",
              "    </tr>\n",
              "    <tr>\n",
              "      <th>Elemento</th>\n",
              "      <th></th>\n",
              "    </tr>\n",
              "  </thead>\n",
              "  <tbody>\n",
              "    <tr>\n",
              "      <th>Fuego</th>\n",
              "      <td>3</td>\n",
              "    </tr>\n",
              "    <tr>\n",
              "      <th>Aire</th>\n",
              "      <td>2</td>\n",
              "    </tr>\n",
              "    <tr>\n",
              "      <th>Agua</th>\n",
              "      <td>2</td>\n",
              "    </tr>\n",
              "    <tr>\n",
              "      <th>Luz</th>\n",
              "      <td>1</td>\n",
              "    </tr>\n",
              "    <tr>\n",
              "      <th>Oscuridad</th>\n",
              "      <td>1</td>\n",
              "    </tr>\n",
              "    <tr>\n",
              "      <th>Tierra</th>\n",
              "      <td>1</td>\n",
              "    </tr>\n",
              "  </tbody>\n",
              "</table>\n",
              "</div><br><label><b>dtype:</b> int64</label>"
            ]
          },
          "metadata": {},
          "execution_count": 8
        }
      ]
    },
    {
      "cell_type": "code",
      "source": [
        "# Elemento que tiene el poder promedio mas alto\n",
        "\n",
        "promedios = criaturas2.groupby('Elemento')['Poder'].mean()\n",
        "promedios.idxmax()\n",
        "\n",
        "# usamos idxmax() para que me de el indice del promedio maximo, como el indice de la lista promedios es elemento me da el elemento\n",
        "# si pusiera promedios.max() lo que me daria seria el promedio mas alto, no el elemento"
      ],
      "metadata": {
        "colab": {
          "base_uri": "https://localhost:8080/",
          "height": 36
        },
        "id": "rg2qb63cIa-7",
        "outputId": "7a3adbe2-5312-41b0-988e-13382805bc25"
      },
      "execution_count": null,
      "outputs": [
        {
          "output_type": "execute_result",
          "data": {
            "text/plain": [
              "'Agua'"
            ],
            "application/vnd.google.colaboratory.intrinsic+json": {
              "type": "string"
            }
          },
          "metadata": {},
          "execution_count": 9
        }
      ]
    },
    {
      "cell_type": "markdown",
      "source": [
        "## Seguimos con el temario\n",
        "### añadiendo una colunna nueva a la que llamaremos Rareza\n"
      ],
      "metadata": {
        "id": "IWLRk3ZdKxOC"
      }
    },
    {
      "cell_type": "code",
      "source": [
        "# Añadimos la columna nueva\n",
        "\n",
        "criaturas2[\"Rareza\"] = [\"Común\", \"Épico\", \"Común\", \"Épico\", \"Común\", \"Épico\", \"Común\", \"Raro\", \"Común\", \"Épico\"]"
      ],
      "metadata": {
        "id": "cYYOPEVzLDk8"
      },
      "execution_count": null,
      "outputs": []
    },
    {
      "cell_type": "code",
      "source": [
        "# Imprimimos la tabla para ver si se añadió\n",
        "\n",
        "criaturas2"
      ],
      "metadata": {
        "colab": {
          "base_uri": "https://localhost:8080/",
          "height": 363
        },
        "id": "76d-dGuGLqR8",
        "outputId": "4548c4e0-dd52-4328-86f5-829d3f5f886b"
      },
      "execution_count": null,
      "outputs": [
        {
          "output_type": "execute_result",
          "data": {
            "text/plain": [
              "      Nombre   Elemento             Origen  Poder  Amistoso  Extinto Rareza\n",
              "0      Fénix      Fuego             Egipto     95      True     True  Común\n",
              "1     Dragón      Fuego              China    100     False    False  Épico\n",
              "2  Unicornio        Luz             Europa     85      True    False  Común\n",
              "3    Quimera      Fuego             Grecia     92     False     True  Épico\n",
              "4       Hada       Aire             Bosque     60      True    False  Común\n",
              "5  Basilisco  Oscuridad            Leyenda     97     False     True  Épico\n",
              "6     Pegaso       Aire             Grecia     80      True    False  Común\n",
              "7     Kraken       Agua  Mitología nórdica     99     False    False   Raro\n",
              "8      Gólem     Tierra             Cábala     70     False    False  Común\n",
              "9   Leviatán       Agua             Biblia     98     False     True  Épico"
            ],
            "text/html": [
              "\n",
              "  <div id=\"df-580e156e-738c-45e8-b56f-82208623d175\" class=\"colab-df-container\">\n",
              "    <div>\n",
              "<style scoped>\n",
              "    .dataframe tbody tr th:only-of-type {\n",
              "        vertical-align: middle;\n",
              "    }\n",
              "\n",
              "    .dataframe tbody tr th {\n",
              "        vertical-align: top;\n",
              "    }\n",
              "\n",
              "    .dataframe thead th {\n",
              "        text-align: right;\n",
              "    }\n",
              "</style>\n",
              "<table border=\"1\" class=\"dataframe\">\n",
              "  <thead>\n",
              "    <tr style=\"text-align: right;\">\n",
              "      <th></th>\n",
              "      <th>Nombre</th>\n",
              "      <th>Elemento</th>\n",
              "      <th>Origen</th>\n",
              "      <th>Poder</th>\n",
              "      <th>Amistoso</th>\n",
              "      <th>Extinto</th>\n",
              "      <th>Rareza</th>\n",
              "    </tr>\n",
              "  </thead>\n",
              "  <tbody>\n",
              "    <tr>\n",
              "      <th>0</th>\n",
              "      <td>Fénix</td>\n",
              "      <td>Fuego</td>\n",
              "      <td>Egipto</td>\n",
              "      <td>95</td>\n",
              "      <td>True</td>\n",
              "      <td>True</td>\n",
              "      <td>Común</td>\n",
              "    </tr>\n",
              "    <tr>\n",
              "      <th>1</th>\n",
              "      <td>Dragón</td>\n",
              "      <td>Fuego</td>\n",
              "      <td>China</td>\n",
              "      <td>100</td>\n",
              "      <td>False</td>\n",
              "      <td>False</td>\n",
              "      <td>Épico</td>\n",
              "    </tr>\n",
              "    <tr>\n",
              "      <th>2</th>\n",
              "      <td>Unicornio</td>\n",
              "      <td>Luz</td>\n",
              "      <td>Europa</td>\n",
              "      <td>85</td>\n",
              "      <td>True</td>\n",
              "      <td>False</td>\n",
              "      <td>Común</td>\n",
              "    </tr>\n",
              "    <tr>\n",
              "      <th>3</th>\n",
              "      <td>Quimera</td>\n",
              "      <td>Fuego</td>\n",
              "      <td>Grecia</td>\n",
              "      <td>92</td>\n",
              "      <td>False</td>\n",
              "      <td>True</td>\n",
              "      <td>Épico</td>\n",
              "    </tr>\n",
              "    <tr>\n",
              "      <th>4</th>\n",
              "      <td>Hada</td>\n",
              "      <td>Aire</td>\n",
              "      <td>Bosque</td>\n",
              "      <td>60</td>\n",
              "      <td>True</td>\n",
              "      <td>False</td>\n",
              "      <td>Común</td>\n",
              "    </tr>\n",
              "    <tr>\n",
              "      <th>5</th>\n",
              "      <td>Basilisco</td>\n",
              "      <td>Oscuridad</td>\n",
              "      <td>Leyenda</td>\n",
              "      <td>97</td>\n",
              "      <td>False</td>\n",
              "      <td>True</td>\n",
              "      <td>Épico</td>\n",
              "    </tr>\n",
              "    <tr>\n",
              "      <th>6</th>\n",
              "      <td>Pegaso</td>\n",
              "      <td>Aire</td>\n",
              "      <td>Grecia</td>\n",
              "      <td>80</td>\n",
              "      <td>True</td>\n",
              "      <td>False</td>\n",
              "      <td>Común</td>\n",
              "    </tr>\n",
              "    <tr>\n",
              "      <th>7</th>\n",
              "      <td>Kraken</td>\n",
              "      <td>Agua</td>\n",
              "      <td>Mitología nórdica</td>\n",
              "      <td>99</td>\n",
              "      <td>False</td>\n",
              "      <td>False</td>\n",
              "      <td>Raro</td>\n",
              "    </tr>\n",
              "    <tr>\n",
              "      <th>8</th>\n",
              "      <td>Gólem</td>\n",
              "      <td>Tierra</td>\n",
              "      <td>Cábala</td>\n",
              "      <td>70</td>\n",
              "      <td>False</td>\n",
              "      <td>False</td>\n",
              "      <td>Común</td>\n",
              "    </tr>\n",
              "    <tr>\n",
              "      <th>9</th>\n",
              "      <td>Leviatán</td>\n",
              "      <td>Agua</td>\n",
              "      <td>Biblia</td>\n",
              "      <td>98</td>\n",
              "      <td>False</td>\n",
              "      <td>True</td>\n",
              "      <td>Épico</td>\n",
              "    </tr>\n",
              "  </tbody>\n",
              "</table>\n",
              "</div>\n",
              "    <div class=\"colab-df-buttons\">\n",
              "\n",
              "  <div class=\"colab-df-container\">\n",
              "    <button class=\"colab-df-convert\" onclick=\"convertToInteractive('df-580e156e-738c-45e8-b56f-82208623d175')\"\n",
              "            title=\"Convert this dataframe to an interactive table.\"\n",
              "            style=\"display:none;\">\n",
              "\n",
              "  <svg xmlns=\"http://www.w3.org/2000/svg\" height=\"24px\" viewBox=\"0 -960 960 960\">\n",
              "    <path d=\"M120-120v-720h720v720H120Zm60-500h600v-160H180v160Zm220 220h160v-160H400v160Zm0 220h160v-160H400v160ZM180-400h160v-160H180v160Zm440 0h160v-160H620v160ZM180-180h160v-160H180v160Zm440 0h160v-160H620v160Z\"/>\n",
              "  </svg>\n",
              "    </button>\n",
              "\n",
              "  <style>\n",
              "    .colab-df-container {\n",
              "      display:flex;\n",
              "      gap: 12px;\n",
              "    }\n",
              "\n",
              "    .colab-df-convert {\n",
              "      background-color: #E8F0FE;\n",
              "      border: none;\n",
              "      border-radius: 50%;\n",
              "      cursor: pointer;\n",
              "      display: none;\n",
              "      fill: #1967D2;\n",
              "      height: 32px;\n",
              "      padding: 0 0 0 0;\n",
              "      width: 32px;\n",
              "    }\n",
              "\n",
              "    .colab-df-convert:hover {\n",
              "      background-color: #E2EBFA;\n",
              "      box-shadow: 0px 1px 2px rgba(60, 64, 67, 0.3), 0px 1px 3px 1px rgba(60, 64, 67, 0.15);\n",
              "      fill: #174EA6;\n",
              "    }\n",
              "\n",
              "    .colab-df-buttons div {\n",
              "      margin-bottom: 4px;\n",
              "    }\n",
              "\n",
              "    [theme=dark] .colab-df-convert {\n",
              "      background-color: #3B4455;\n",
              "      fill: #D2E3FC;\n",
              "    }\n",
              "\n",
              "    [theme=dark] .colab-df-convert:hover {\n",
              "      background-color: #434B5C;\n",
              "      box-shadow: 0px 1px 3px 1px rgba(0, 0, 0, 0.15);\n",
              "      filter: drop-shadow(0px 1px 2px rgba(0, 0, 0, 0.3));\n",
              "      fill: #FFFFFF;\n",
              "    }\n",
              "  </style>\n",
              "\n",
              "    <script>\n",
              "      const buttonEl =\n",
              "        document.querySelector('#df-580e156e-738c-45e8-b56f-82208623d175 button.colab-df-convert');\n",
              "      buttonEl.style.display =\n",
              "        google.colab.kernel.accessAllowed ? 'block' : 'none';\n",
              "\n",
              "      async function convertToInteractive(key) {\n",
              "        const element = document.querySelector('#df-580e156e-738c-45e8-b56f-82208623d175');\n",
              "        const dataTable =\n",
              "          await google.colab.kernel.invokeFunction('convertToInteractive',\n",
              "                                                    [key], {});\n",
              "        if (!dataTable) return;\n",
              "\n",
              "        const docLinkHtml = 'Like what you see? Visit the ' +\n",
              "          '<a target=\"_blank\" href=https://colab.research.google.com/notebooks/data_table.ipynb>data table notebook</a>'\n",
              "          + ' to learn more about interactive tables.';\n",
              "        element.innerHTML = '';\n",
              "        dataTable['output_type'] = 'display_data';\n",
              "        await google.colab.output.renderOutput(dataTable, element);\n",
              "        const docLink = document.createElement('div');\n",
              "        docLink.innerHTML = docLinkHtml;\n",
              "        element.appendChild(docLink);\n",
              "      }\n",
              "    </script>\n",
              "  </div>\n",
              "\n",
              "\n",
              "    <div id=\"df-23353236-a071-41c1-9a6d-32c7a214258c\">\n",
              "      <button class=\"colab-df-quickchart\" onclick=\"quickchart('df-23353236-a071-41c1-9a6d-32c7a214258c')\"\n",
              "                title=\"Suggest charts\"\n",
              "                style=\"display:none;\">\n",
              "\n",
              "<svg xmlns=\"http://www.w3.org/2000/svg\" height=\"24px\"viewBox=\"0 0 24 24\"\n",
              "     width=\"24px\">\n",
              "    <g>\n",
              "        <path d=\"M19 3H5c-1.1 0-2 .9-2 2v14c0 1.1.9 2 2 2h14c1.1 0 2-.9 2-2V5c0-1.1-.9-2-2-2zM9 17H7v-7h2v7zm4 0h-2V7h2v10zm4 0h-2v-4h2v4z\"/>\n",
              "    </g>\n",
              "</svg>\n",
              "      </button>\n",
              "\n",
              "<style>\n",
              "  .colab-df-quickchart {\n",
              "      --bg-color: #E8F0FE;\n",
              "      --fill-color: #1967D2;\n",
              "      --hover-bg-color: #E2EBFA;\n",
              "      --hover-fill-color: #174EA6;\n",
              "      --disabled-fill-color: #AAA;\n",
              "      --disabled-bg-color: #DDD;\n",
              "  }\n",
              "\n",
              "  [theme=dark] .colab-df-quickchart {\n",
              "      --bg-color: #3B4455;\n",
              "      --fill-color: #D2E3FC;\n",
              "      --hover-bg-color: #434B5C;\n",
              "      --hover-fill-color: #FFFFFF;\n",
              "      --disabled-bg-color: #3B4455;\n",
              "      --disabled-fill-color: #666;\n",
              "  }\n",
              "\n",
              "  .colab-df-quickchart {\n",
              "    background-color: var(--bg-color);\n",
              "    border: none;\n",
              "    border-radius: 50%;\n",
              "    cursor: pointer;\n",
              "    display: none;\n",
              "    fill: var(--fill-color);\n",
              "    height: 32px;\n",
              "    padding: 0;\n",
              "    width: 32px;\n",
              "  }\n",
              "\n",
              "  .colab-df-quickchart:hover {\n",
              "    background-color: var(--hover-bg-color);\n",
              "    box-shadow: 0 1px 2px rgba(60, 64, 67, 0.3), 0 1px 3px 1px rgba(60, 64, 67, 0.15);\n",
              "    fill: var(--button-hover-fill-color);\n",
              "  }\n",
              "\n",
              "  .colab-df-quickchart-complete:disabled,\n",
              "  .colab-df-quickchart-complete:disabled:hover {\n",
              "    background-color: var(--disabled-bg-color);\n",
              "    fill: var(--disabled-fill-color);\n",
              "    box-shadow: none;\n",
              "  }\n",
              "\n",
              "  .colab-df-spinner {\n",
              "    border: 2px solid var(--fill-color);\n",
              "    border-color: transparent;\n",
              "    border-bottom-color: var(--fill-color);\n",
              "    animation:\n",
              "      spin 1s steps(1) infinite;\n",
              "  }\n",
              "\n",
              "  @keyframes spin {\n",
              "    0% {\n",
              "      border-color: transparent;\n",
              "      border-bottom-color: var(--fill-color);\n",
              "      border-left-color: var(--fill-color);\n",
              "    }\n",
              "    20% {\n",
              "      border-color: transparent;\n",
              "      border-left-color: var(--fill-color);\n",
              "      border-top-color: var(--fill-color);\n",
              "    }\n",
              "    30% {\n",
              "      border-color: transparent;\n",
              "      border-left-color: var(--fill-color);\n",
              "      border-top-color: var(--fill-color);\n",
              "      border-right-color: var(--fill-color);\n",
              "    }\n",
              "    40% {\n",
              "      border-color: transparent;\n",
              "      border-right-color: var(--fill-color);\n",
              "      border-top-color: var(--fill-color);\n",
              "    }\n",
              "    60% {\n",
              "      border-color: transparent;\n",
              "      border-right-color: var(--fill-color);\n",
              "    }\n",
              "    80% {\n",
              "      border-color: transparent;\n",
              "      border-right-color: var(--fill-color);\n",
              "      border-bottom-color: var(--fill-color);\n",
              "    }\n",
              "    90% {\n",
              "      border-color: transparent;\n",
              "      border-bottom-color: var(--fill-color);\n",
              "    }\n",
              "  }\n",
              "</style>\n",
              "\n",
              "      <script>\n",
              "        async function quickchart(key) {\n",
              "          const quickchartButtonEl =\n",
              "            document.querySelector('#' + key + ' button');\n",
              "          quickchartButtonEl.disabled = true;  // To prevent multiple clicks.\n",
              "          quickchartButtonEl.classList.add('colab-df-spinner');\n",
              "          try {\n",
              "            const charts = await google.colab.kernel.invokeFunction(\n",
              "                'suggestCharts', [key], {});\n",
              "          } catch (error) {\n",
              "            console.error('Error during call to suggestCharts:', error);\n",
              "          }\n",
              "          quickchartButtonEl.classList.remove('colab-df-spinner');\n",
              "          quickchartButtonEl.classList.add('colab-df-quickchart-complete');\n",
              "        }\n",
              "        (() => {\n",
              "          let quickchartButtonEl =\n",
              "            document.querySelector('#df-23353236-a071-41c1-9a6d-32c7a214258c button');\n",
              "          quickchartButtonEl.style.display =\n",
              "            google.colab.kernel.accessAllowed ? 'block' : 'none';\n",
              "        })();\n",
              "      </script>\n",
              "    </div>\n",
              "\n",
              "  <div id=\"id_1f629417-ff38-48aa-9ce8-cee6aebaab94\">\n",
              "    <style>\n",
              "      .colab-df-generate {\n",
              "        background-color: #E8F0FE;\n",
              "        border: none;\n",
              "        border-radius: 50%;\n",
              "        cursor: pointer;\n",
              "        display: none;\n",
              "        fill: #1967D2;\n",
              "        height: 32px;\n",
              "        padding: 0 0 0 0;\n",
              "        width: 32px;\n",
              "      }\n",
              "\n",
              "      .colab-df-generate:hover {\n",
              "        background-color: #E2EBFA;\n",
              "        box-shadow: 0px 1px 2px rgba(60, 64, 67, 0.3), 0px 1px 3px 1px rgba(60, 64, 67, 0.15);\n",
              "        fill: #174EA6;\n",
              "      }\n",
              "\n",
              "      [theme=dark] .colab-df-generate {\n",
              "        background-color: #3B4455;\n",
              "        fill: #D2E3FC;\n",
              "      }\n",
              "\n",
              "      [theme=dark] .colab-df-generate:hover {\n",
              "        background-color: #434B5C;\n",
              "        box-shadow: 0px 1px 3px 1px rgba(0, 0, 0, 0.15);\n",
              "        filter: drop-shadow(0px 1px 2px rgba(0, 0, 0, 0.3));\n",
              "        fill: #FFFFFF;\n",
              "      }\n",
              "    </style>\n",
              "    <button class=\"colab-df-generate\" onclick=\"generateWithVariable('criaturas2')\"\n",
              "            title=\"Generate code using this dataframe.\"\n",
              "            style=\"display:none;\">\n",
              "\n",
              "  <svg xmlns=\"http://www.w3.org/2000/svg\" height=\"24px\"viewBox=\"0 0 24 24\"\n",
              "       width=\"24px\">\n",
              "    <path d=\"M7,19H8.4L18.45,9,17,7.55,7,17.6ZM5,21V16.75L18.45,3.32a2,2,0,0,1,2.83,0l1.4,1.43a1.91,1.91,0,0,1,.58,1.4,1.91,1.91,0,0,1-.58,1.4L9.25,21ZM18.45,9,17,7.55Zm-12,3A5.31,5.31,0,0,0,4.9,8.1,5.31,5.31,0,0,0,1,6.5,5.31,5.31,0,0,0,4.9,4.9,5.31,5.31,0,0,0,6.5,1,5.31,5.31,0,0,0,8.1,4.9,5.31,5.31,0,0,0,12,6.5,5.46,5.46,0,0,0,6.5,12Z\"/>\n",
              "  </svg>\n",
              "    </button>\n",
              "    <script>\n",
              "      (() => {\n",
              "      const buttonEl =\n",
              "        document.querySelector('#id_1f629417-ff38-48aa-9ce8-cee6aebaab94 button.colab-df-generate');\n",
              "      buttonEl.style.display =\n",
              "        google.colab.kernel.accessAllowed ? 'block' : 'none';\n",
              "\n",
              "      buttonEl.onclick = () => {\n",
              "        google.colab.notebook.generateWithVariable('criaturas2');\n",
              "      }\n",
              "      })();\n",
              "    </script>\n",
              "  </div>\n",
              "\n",
              "    </div>\n",
              "  </div>\n"
            ],
            "application/vnd.google.colaboratory.intrinsic+json": {
              "type": "dataframe",
              "variable_name": "criaturas2",
              "summary": "{\n  \"name\": \"criaturas2\",\n  \"rows\": 10,\n  \"fields\": [\n    {\n      \"column\": \"Nombre\",\n      \"properties\": {\n        \"dtype\": \"string\",\n        \"num_unique_values\": 10,\n        \"samples\": [\n          \"G\\u00f3lem\",\n          \"Drag\\u00f3n\",\n          \"Basilisco\"\n        ],\n        \"semantic_type\": \"\",\n        \"description\": \"\"\n      }\n    },\n    {\n      \"column\": \"Elemento\",\n      \"properties\": {\n        \"dtype\": \"string\",\n        \"num_unique_values\": 6,\n        \"samples\": [\n          \"Fuego\",\n          \"Luz\",\n          \"Tierra\"\n        ],\n        \"semantic_type\": \"\",\n        \"description\": \"\"\n      }\n    },\n    {\n      \"column\": \"Origen\",\n      \"properties\": {\n        \"dtype\": \"string\",\n        \"num_unique_values\": 9,\n        \"samples\": [\n          \"C\\u00e1bala\",\n          \"China\",\n          \"Leyenda\"\n        ],\n        \"semantic_type\": \"\",\n        \"description\": \"\"\n      }\n    },\n    {\n      \"column\": \"Poder\",\n      \"properties\": {\n        \"dtype\": \"number\",\n        \"std\": 13,\n        \"min\": 60,\n        \"max\": 100,\n        \"num_unique_values\": 10,\n        \"samples\": [\n          70,\n          100,\n          97\n        ],\n        \"semantic_type\": \"\",\n        \"description\": \"\"\n      }\n    },\n    {\n      \"column\": \"Amistoso\",\n      \"properties\": {\n        \"dtype\": \"boolean\",\n        \"num_unique_values\": 2,\n        \"samples\": [\n          false,\n          true\n        ],\n        \"semantic_type\": \"\",\n        \"description\": \"\"\n      }\n    },\n    {\n      \"column\": \"Extinto\",\n      \"properties\": {\n        \"dtype\": \"boolean\",\n        \"num_unique_values\": 2,\n        \"samples\": [\n          false,\n          true\n        ],\n        \"semantic_type\": \"\",\n        \"description\": \"\"\n      }\n    },\n    {\n      \"column\": \"Rareza\",\n      \"properties\": {\n        \"dtype\": \"category\",\n        \"num_unique_values\": 3,\n        \"samples\": [\n          \"Com\\u00fan\",\n          \"\\u00c9pico\"\n        ],\n        \"semantic_type\": \"\",\n        \"description\": \"\"\n      }\n    }\n  ]\n}"
            }
          },
          "metadata": {},
          "execution_count": 46
        }
      ]
    },
    {
      "cell_type": "markdown",
      "source": [
        "## 🎨 Visualización de Datos con Estilo: Gráficos Encantados\n",
        "\n",
        "### Los números son geniales, pero a veces, una imagen vale más que mil datos. Para que nuestros descubrimientos mágicos sean fáciles de entender para todos, vamos a visualizarlos. Usaremos matplotlib.pyplot y seaborn."
      ],
      "metadata": {
        "id": "ZOtP9vhuL-mY"
      }
    },
    {
      "cell_type": "code",
      "source": [
        "# cargamos matplotlib.pyplot que es la libreria de graficos y hacemos un grafico de barras\n",
        "import matplotlib.pyplot as plt\n",
        "# grafico de barras: poder medio por Rareza\n",
        "\n",
        "criaturas2.groupby(\"Rareza\")['Poder'].mean().plot(kind=\"bar\", color=[\"lightblue\", \"orange\", \"purple\"])\n",
        "plt.title(\"Poder Medio por Rareza\")\n",
        "plt.ylabel(\"Poder\")\n",
        "plt.xlabel(\"Rareza\")\n",
        "plt.show()"
      ],
      "metadata": {
        "colab": {
          "base_uri": "https://localhost:8080/",
          "height": 507
        },
        "id": "iIQOhBq5LrAu",
        "outputId": "e728b762-5d3e-4e5b-8c2b-324cc39edf93"
      },
      "execution_count": null,
      "outputs": [
        {
          "output_type": "display_data",
          "data": {
            "text/plain": [
              "<Figure size 640x480 with 1 Axes>"
            ],
            "image/png": "[encoded data removed]"
          },
          "metadata": {}
        }
      ]
    },
    {
      "cell_type": "markdown",
      "source": [
        "## EJERCICIOS VISUALES:\n",
        "\n",
        "### Gráfico circular del porcentaje de criaturas por Rareza:"
      ],
      "metadata": {
        "id": "VkSJ2bLvUFhz"
      }
    },
    {
      "cell_type": "code",
      "source": [
        "criaturas2[\"Rareza\"].value_counts().plot(kind=\"pie\", autopct=\"%1.1f%%\")\n",
        "plt.title(\"Distribución de Rarezas\")\n",
        "plt.ylabel(\"\") #Para que no aparezca etiqueta rara\n",
        "plt.show()"
      ],
      "metadata": {
        "colab": {
          "base_uri": "https://localhost:8080/",
          "height": 428
        },
        "id": "2bZC5VPwUFMf",
        "outputId": "2dd65b04-8ab3-4c58-f6da-3caa5a479307"
      },
      "execution_count": null,
      "outputs": [
        {
          "output_type": "display_data",
          "data": {
            "text/plain": [
              "<Figure size 640x480 with 1 Axes>"
            ],
            "image/png": "[encoded data removed]"
          },
          "metadata": {}
        }
      ]
    },
    {
      "cell_type": "markdown",
      "source": [
        "### Gráfico de barras con criaturas por Origen:"
      ],
      "metadata": {
        "id": "Q8gVX4NyU-5V"
      }
    },
    {
      "cell_type": "code",
      "source": [
        "criaturas['Origen'].value_counts().plot(kind='barh', color='salmon')\n",
        "plt.title('criaturas por Origen')\n",
        "plt.xlabel('Cantidad')\n",
        "plt.ylabel('Origen')\n",
        "plt.show()"
      ],
      "metadata": {
        "colab": {
          "base_uri": "https://localhost:8080/",
          "height": 472
        },
        "id": "MXNXpSo2VIFu",
        "outputId": "606f2afa-0bb4-48d2-929e-02e7ebd1a92f"
      },
      "execution_count": null,
      "outputs": [
        {
          "output_type": "display_data",
          "data": {
            "text/plain": [
              "<Figure size 640x480 with 1 Axes>"
            ],
            "image/png": "[encoded data removed]"
          },
          "metadata": {}
        }
      ]
    },
    {
      "cell_type": "markdown",
      "source": [
        "## 🧠 RETO MÁGICO (avanzado y opcional)\n",
        "\n",
        "### ¿Puedes mostrar en un gráfico de barras el poder medio por cada combinación de Elemento y Rareza?"
      ],
      "metadata": {
        "id": "8X1Sm51PV-xz"
      }
    },
    {
      "cell_type": "code",
      "source": [
        "criaturas2.groupby([\"Elemento\", \"Rareza\"])['Poder'].mean().unstack().plot(kind=\"bar\")"
      ],
      "metadata": {
        "colab": {
          "base_uri": "https://localhost:8080/",
          "height": 524
        },
        "id": "Ksh0aFTtWs1c",
        "outputId": "9dc996cf-bf7b-4b0b-94f5-097110fadc4a"
      },
      "execution_count": null,
      "outputs": [
        {
          "output_type": "execute_result",
          "data": {
            "text/plain": [
              "<Axes: xlabel='Elemento'>"
            ]
          },
          "metadata": {},
          "execution_count": 54
        },
        {
          "output_type": "display_data",
          "data": {
            "text/plain": [
              "<Figure size 640x480 with 1 Axes>"
            ],
            "image/png": "[encoded data removed]"
          },
          "metadata": {}
        }
      ]
    },
    {
      "cell_type": "markdown",
      "source": [
        "## 🌟 Cierre del Día 3: Datos Agrupados, Historias Reveladas\n",
        "\n",
        "  ¡Felicitaciones! Hoy hemos dado un gran salto en nuestra aventura de ciencia de datos. No solo aprendimos a **salvaguardar nuestros datos** exportándolos a CSV (¡adiós a reescribir!), sino que también dominamos el arte de **agrupar y resumir información clave** con `groupby()`.\n",
        "\n",
        "  Y lo más emocionante: hemos transformado números aburridos en **gráficos vibrantes y llenos de *insights***. La visualización es nuestra voz para contar las historias que los datos esconden.\n",
        "\n",
        "  Estas habilidades son fundamentales para cualquier científico de datos que aspire a extraer el máximo valor de la información. ¡Cada día estamos más cerca de desvelar todos los secretos de nuestro reino mágico!\n",
        "\n",
        "**¿Próximos desafíos?** ¡La aventura continúa!"
      ],
      "metadata": {
        "id": "1zO3AZGfCbIX"
      }
    }
  ]
}