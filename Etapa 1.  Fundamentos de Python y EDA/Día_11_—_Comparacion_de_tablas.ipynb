{
  "nbformat": 4,
  "nbformat_minor": 0,
  "metadata": {
    "colab": {
      "provenance": []
    },
    "kernelspec": {
      "name": "python3",
      "display_name": "Python 3"
    },
    "language_info": {
      "name": "python"
    }
  },
  "cells": [
    {
      "cell_type": "markdown",
      "source": [
        "# Este dia de estudio fue un poco diferente\n",
        "\n",
        "## Comence el dia penSando que iba a estudiar algo nuevo del temario\n",
        "\n",
        "### Pero como la vida misma, a mitad de camino me tipé con un problema, algo con lo que aún no me habia topado\n",
        "\n",
        "### Asi que mi estudio derivo de \"Empezamos tema nuevo\" a \"Resolvamos este problema nuevo\"\n",
        "\n",
        "### Acompañame en esta aventura espontanea"
      ],
      "metadata": {
        "id": "UspMu67aiDnE"
      }
    },
    {
      "cell_type": "markdown",
      "source": [
        "### Este es el primer dia que comienzo a trabajar con un dataset de una fuente externa.\n",
        "#### Vamos a hacer los pasos y secuencialmente iré desvelando el problema con el que me encontré, como lo resolví y que conclusiones saqué"
      ],
      "metadata": {
        "id": "K2jmgBdki1HS"
      }
    },
    {
      "cell_type": "markdown",
      "source": [
        "### Comenzamos con la celda donde importamos librerias y todo lo necesario\n",
        "\n",
        "#### la novedad es que a partir de aqui comienzo a importar las librerias al principio de todo como una profesional e introduzco los `ignore`, en este caso con `warnings` de advertencia que en el momento exploratorio solo molestan y solo cobran importancia en producción\n",
        "\n",
        "#### Ajusto tambien las preferencias de las visualizaciones y asi son lineas de código que me ahorro mas adelante"
      ],
      "metadata": {
        "id": "p9OR7gfgiv4-"
      }
    },
    {
      "cell_type": "markdown",
      "source": [
        "#### Todo lo que no explico en las celdas de texto es porque esta comentado en el código\n",
        "\n",
        "#### Si reproduces este notebook, recuerda descargar o cargar mediante otra alternativa el dataset empleado.\n",
        "\n",
        "#### el dataset empleado no lo proporciono por organizacion de la carpeta de apuntes pero te dejo el enlace:\n",
        "\n",
        "+ `https://www.kaggle.com/datasets/katrinaalaimo/list-of-greek-gods-and-goddesses`"
      ],
      "metadata": {
        "id": "9QI7kmFaj808"
      }
    },
    {
      "cell_type": "code",
      "execution_count": 1,
      "metadata": {
        "colab": {
          "base_uri": "https://localhost:8080/",
          "height": 109
        },
        "id": "_s_VGNS4GIgI",
        "outputId": "b04cdc05-0104-4c30-9d6d-77065950f135"
      },
      "outputs": [
        {
          "output_type": "display_data",
          "data": {
            "text/plain": [
              "<IPython.core.display.HTML object>"
            ],
            "text/html": [
              "\n",
              "     <input type=\"file\" id=\"files-28def441-06a6-4bb8-882b-9f177c5db285\" name=\"files[]\" multiple disabled\n",
              "        style=\"border:none\" />\n",
              "     <output id=\"result-28def441-06a6-4bb8-882b-9f177c5db285\">\n",
              "      Upload widget is only available when the cell has been executed in the\n",
              "      current browser session. Please rerun this cell to enable.\n",
              "      </output>\n",
              "      <script>// Copyright 2017 Google LLC\n",
              "//\n",
              "// Licensed under the Apache License, Version 2.0 (the \"License\");\n",
              "// you may not use this file except in compliance with the License.\n",
              "// You may obtain a copy of the License at\n",
              "//\n",
              "//      http://www.apache.org/licenses/LICENSE-2.0\n",
              "//\n",
              "// Unless required by applicable law or agreed to in writing, software\n",
              "// distributed under the License is distributed on an \"AS IS\" BASIS,\n",
              "// WITHOUT WARRANTIES OR CONDITIONS OF ANY KIND, either express or implied.\n",
              "// See the License for the specific language governing permissions and\n",
              "// limitations under the License.\n",
              "\n",
              "/**\n",
              " * @fileoverview Helpers for google.colab Python module.\n",
              " */\n",
              "(function(scope) {\n",
              "function span(text, styleAttributes = {}) {\n",
              "  const element = document.createElement('span');\n",
              "  element.textContent = text;\n",
              "  for (const key of Object.keys(styleAttributes)) {\n",
              "    element.style[key] = styleAttributes[key];\n",
              "  }\n",
              "  return element;\n",
              "}\n",
              "\n",
              "// Max number of bytes which will be uploaded at a time.\n",
              "const MAX_PAYLOAD_SIZE = 100 * 1024;\n",
              "\n",
              "function _uploadFiles(inputId, outputId) {\n",
              "  const steps = uploadFilesStep(inputId, outputId);\n",
              "  const outputElement = document.getElementById(outputId);\n",
              "  // Cache steps on the outputElement to make it available for the next call\n",
              "  // to uploadFilesContinue from Python.\n",
              "  outputElement.steps = steps;\n",
              "\n",
              "  return _uploadFilesContinue(outputId);\n",
              "}\n",
              "\n",
              "// This is roughly an async generator (not supported in the browser yet),\n",
              "// where there are multiple asynchronous steps and the Python side is going\n",
              "// to poll for completion of each step.\n",
              "// This uses a Promise to block the python side on completion of each step,\n",
              "// then passes the result of the previous step as the input to the next step.\n",
              "function _uploadFilesContinue(outputId) {\n",
              "  const outputElement = document.getElementById(outputId);\n",
              "  const steps = outputElement.steps;\n",
              "\n",
              "  const next = steps.next(outputElement.lastPromiseValue);\n",
              "  return Promise.resolve(next.value.promise).then((value) => {\n",
              "    // Cache the last promise value to make it available to the next\n",
              "    // step of the generator.\n",
              "    outputElement.lastPromiseValue = value;\n",
              "    return next.value.response;\n",
              "  });\n",
              "}\n",
              "\n",
              "/**\n",
              " * Generator function which is called between each async step of the upload\n",
              " * process.\n",
              " * @param {string} inputId Element ID of the input file picker element.\n",
              " * @param {string} outputId Element ID of the output display.\n",
              " * @return {!Iterable<!Object>} Iterable of next steps.\n",
              " */\n",
              "function* uploadFilesStep(inputId, outputId) {\n",
              "  const inputElement = document.getElementById(inputId);\n",
              "  inputElement.disabled = false;\n",
              "\n",
              "  const outputElement = document.getElementById(outputId);\n",
              "  outputElement.innerHTML = '';\n",
              "\n",
              "  const pickedPromise = new Promise((resolve) => {\n",
              "    inputElement.addEventListener('change', (e) => {\n",
              "      resolve(e.target.files);\n",
              "    });\n",
              "  });\n",
              "\n",
              "  const cancel = document.createElement('button');\n",
              "  inputElement.parentElement.appendChild(cancel);\n",
              "  cancel.textContent = 'Cancel upload';\n",
              "  const cancelPromise = new Promise((resolve) => {\n",
              "    cancel.onclick = () => {\n",
              "      resolve(null);\n",
              "    };\n",
              "  });\n",
              "\n",
              "  // Wait for the user to pick the files.\n",
              "  const files = yield {\n",
              "    promise: Promise.race([pickedPromise, cancelPromise]),\n",
              "    response: {\n",
              "      action: 'starting',\n",
              "    }\n",
              "  };\n",
              "\n",
              "  cancel.remove();\n",
              "\n",
              "  // Disable the input element since further picks are not allowed.\n",
              "  inputElement.disabled = true;\n",
              "\n",
              "  if (!files) {\n",
              "    return {\n",
              "      response: {\n",
              "        action: 'complete',\n",
              "      }\n",
              "    };\n",
              "  }\n",
              "\n",
              "  for (const file of files) {\n",
              "    const li = document.createElement('li');\n",
              "    li.append(span(file.name, {fontWeight: 'bold'}));\n",
              "    li.append(span(\n",
              "        `(${file.type || 'n/a'}) - ${file.size} bytes, ` +\n",
              "        `last modified: ${\n",
              "            file.lastModifiedDate ? file.lastModifiedDate.toLocaleDateString() :\n",
              "                                    'n/a'} - `));\n",
              "    const percent = span('0% done');\n",
              "    li.appendChild(percent);\n",
              "\n",
              "    outputElement.appendChild(li);\n",
              "\n",
              "    const fileDataPromise = new Promise((resolve) => {\n",
              "      const reader = new FileReader();\n",
              "      reader.onload = (e) => {\n",
              "        resolve(e.target.result);\n",
              "      };\n",
              "      reader.readAsArrayBuffer(file);\n",
              "    });\n",
              "    // Wait for the data to be ready.\n",
              "    let fileData = yield {\n",
              "      promise: fileDataPromise,\n",
              "      response: {\n",
              "        action: 'continue',\n",
              "      }\n",
              "    };\n",
              "\n",
              "    // Use a chunked sending to avoid message size limits. See b/62115660.\n",
              "    let position = 0;\n",
              "    do {\n",
              "      const length = Math.min(fileData.byteLength - position, MAX_PAYLOAD_SIZE);\n",
              "      const chunk = new Uint8Array(fileData, position, length);\n",
              "      position += length;\n",
              "\n",
              "      const base64 = btoa(String.fromCharCode.apply(null, chunk));\n",
              "      yield {\n",
              "        response: {\n",
              "          action: 'append',\n",
              "          file: file.name,\n",
              "          data: base64,\n",
              "        },\n",
              "      };\n",
              "\n",
              "      let percentDone = fileData.byteLength === 0 ?\n",
              "          100 :\n",
              "          Math.round((position / fileData.byteLength) * 100);\n",
              "      percent.textContent = `${percentDone}% done`;\n",
              "\n",
              "    } while (position < fileData.byteLength);\n",
              "  }\n",
              "\n",
              "  // All done.\n",
              "  yield {\n",
              "    response: {\n",
              "      action: 'complete',\n",
              "    }\n",
              "  };\n",
              "}\n",
              "\n",
              "scope.google = scope.google || {};\n",
              "scope.google.colab = scope.google.colab || {};\n",
              "scope.google.colab._files = {\n",
              "  _uploadFiles,\n",
              "  _uploadFilesContinue,\n",
              "};\n",
              "})(self);\n",
              "</script> "
            ]
          },
          "metadata": {}
        },
        {
          "output_type": "stream",
          "name": "stdout",
          "text": [
            "Saving greek_gods.csv to greek_gods.csv\n",
            "Saving greek_gods_v2.csv to greek_gods_v2.csv\n"
          ]
        }
      ],
      "source": [
        "import pandas as pd\n",
        "import numpy as np\n",
        "import matplotlib.pyplot as plt\n",
        "import seaborn as sns\n",
        "# ÉLITE MUNDIAL - Con criterio y documentación\n",
        "import warnings\n",
        "# Ignoramos warnings de pandas deprecation durante exploración\n",
        "# NOTA: Revisar antes de producción\n",
        "warnings.filterwarnings('ignore', category=FutureWarning)\n",
        "warnings.filterwarnings('ignore', category=UserWarning)\n",
        "\n",
        "# Parametros para embellecer todos los graficos\n",
        "plt.rcParams['figure.figsize'] = (12, 8) # Tamaño estandar para todos\n",
        "plt.rcParams['font.size'] = 11            # Texto legible profesional\n",
        "sns.set_style(\"whitegrid\")                # Fondo con grilla sutil\n",
        "sns.set_palette(\"husl\")                   # Colores armónicos automáticos\n",
        "\n",
        "# cargamos los archivos desde el pc\n",
        "from google.colab import files\n",
        "uploaded = files.upload()"
      ]
    },
    {
      "cell_type": "markdown",
      "source": [
        "#### Una vez subidos los cargamos a google colab"
      ],
      "metadata": {
        "id": "sisIOOzN4Lbo"
      }
    },
    {
      "cell_type": "code",
      "source": [
        "# cargamos los archivos en colab\n",
        "df_greek = pd.read_csv('greek_gods.csv')\n",
        "df_greek2 = pd.read_csv('greek_gods_v2.csv')"
      ],
      "metadata": {
        "id": "VcX0mX-YQ2UH"
      },
      "execution_count": 2,
      "outputs": []
    },
    {
      "cell_type": "markdown",
      "source": [
        "#### Visualizamos las 5 primeras filas del dataset para comprobar que se cargó bien"
      ],
      "metadata": {
        "id": "P_V5-pny4cEH"
      }
    },
    {
      "cell_type": "code",
      "source": [
        "# Visualizamos las 5 primeras filas de los datasets\n",
        "df_greek.head()\n"
      ],
      "metadata": {
        "colab": {
          "base_uri": "https://localhost:8080/",
          "height": 310
        },
        "id": "bTzg03D9RkpN",
        "outputId": "768bb3e7-daba-4883-b9be-4c597107eb1f"
      },
      "execution_count": 3,
      "outputs": [
        {
          "output_type": "execute_result",
          "data": {
            "text/plain": [
              "  name-english name-greek main-type  sub-type  \\\n",
              "0    Aphrodite   Ἀφροδίτη       god  olympian   \n",
              "1       Apollo    Ἀπόλλων       god  olympian   \n",
              "2         Ares       Ἄρης       god  olympian   \n",
              "3      Artemis    Ἄρτεμις       god  olympian   \n",
              "4       Athena      Ἀθηνᾶ       god  olympian   \n",
              "\n",
              "                                         description  \n",
              "0      goddess of beauty, love, desire, and pleasure  \n",
              "1  god of music, arts, knowledge, healing, plague...  \n",
              "2       god of courage, war, bloodshed, and violence  \n",
              "3  virgin goddess of the hunt, wilderness, animal...  \n",
              "4  goddess of reason, wisdom, intelligence, skill...  "
            ],
            "text/html": [
              "\n",
              "  <div id=\"df-bab6bd74-ce86-4ee9-97c2-66e9ca1c4905\" class=\"colab-df-container\">\n",
              "    <div>\n",
              "<style scoped>\n",
              "    .dataframe tbody tr th:only-of-type {\n",
              "        vertical-align: middle;\n",
              "    }\n",
              "\n",
              "    .dataframe tbody tr th {\n",
              "        vertical-align: top;\n",
              "    }\n",
              "\n",
              "    .dataframe thead th {\n",
              "        text-align: right;\n",
              "    }\n",
              "</style>\n",
              "<table border=\"1\" class=\"dataframe\">\n",
              "  <thead>\n",
              "    <tr style=\"text-align: right;\">\n",
              "      <th></th>\n",
              "      <th>name-english</th>\n",
              "      <th>name-greek</th>\n",
              "      <th>main-type</th>\n",
              "      <th>sub-type</th>\n",
              "      <th>description</th>\n",
              "    </tr>\n",
              "  </thead>\n",
              "  <tbody>\n",
              "    <tr>\n",
              "      <th>0</th>\n",
              "      <td>Aphrodite</td>\n",
              "      <td>Ἀφροδίτη</td>\n",
              "      <td>god</td>\n",
              "      <td>olympian</td>\n",
              "      <td>goddess of beauty, love, desire, and pleasure</td>\n",
              "    </tr>\n",
              "    <tr>\n",
              "      <th>1</th>\n",
              "      <td>Apollo</td>\n",
              "      <td>Ἀπόλλων</td>\n",
              "      <td>god</td>\n",
              "      <td>olympian</td>\n",
              "      <td>god of music, arts, knowledge, healing, plague...</td>\n",
              "    </tr>\n",
              "    <tr>\n",
              "      <th>2</th>\n",
              "      <td>Ares</td>\n",
              "      <td>Ἄρης</td>\n",
              "      <td>god</td>\n",
              "      <td>olympian</td>\n",
              "      <td>god of courage, war, bloodshed, and violence</td>\n",
              "    </tr>\n",
              "    <tr>\n",
              "      <th>3</th>\n",
              "      <td>Artemis</td>\n",
              "      <td>Ἄρτεμις</td>\n",
              "      <td>god</td>\n",
              "      <td>olympian</td>\n",
              "      <td>virgin goddess of the hunt, wilderness, animal...</td>\n",
              "    </tr>\n",
              "    <tr>\n",
              "      <th>4</th>\n",
              "      <td>Athena</td>\n",
              "      <td>Ἀθηνᾶ</td>\n",
              "      <td>god</td>\n",
              "      <td>olympian</td>\n",
              "      <td>goddess of reason, wisdom, intelligence, skill...</td>\n",
              "    </tr>\n",
              "  </tbody>\n",
              "</table>\n",
              "</div>\n",
              "    <div class=\"colab-df-buttons\">\n",
              "\n",
              "  <div class=\"colab-df-container\">\n",
              "    <button class=\"colab-df-convert\" onclick=\"convertToInteractive('df-bab6bd74-ce86-4ee9-97c2-66e9ca1c4905')\"\n",
              "            title=\"Convert this dataframe to an interactive table.\"\n",
              "            style=\"display:none;\">\n",
              "\n",
              "  <svg xmlns=\"http://www.w3.org/2000/svg\" height=\"24px\" viewBox=\"0 -960 960 960\">\n",
              "    <path d=\"M120-120v-720h720v720H120Zm60-500h600v-160H180v160Zm220 220h160v-160H400v160Zm0 220h160v-160H400v160ZM180-400h160v-160H180v160Zm440 0h160v-160H620v160ZM180-180h160v-160H180v160Zm440 0h160v-160H620v160Z\"/>\n",
              "  </svg>\n",
              "    </button>\n",
              "\n",
              "  <style>\n",
              "    .colab-df-container {\n",
              "      display:flex;\n",
              "      gap: 12px;\n",
              "    }\n",
              "\n",
              "    .colab-df-convert {\n",
              "      background-color: #E8F0FE;\n",
              "      border: none;\n",
              "      border-radius: 50%;\n",
              "      cursor: pointer;\n",
              "      display: none;\n",
              "      fill: #1967D2;\n",
              "      height: 32px;\n",
              "      padding: 0 0 0 0;\n",
              "      width: 32px;\n",
              "    }\n",
              "\n",
              "    .colab-df-convert:hover {\n",
              "      background-color: #E2EBFA;\n",
              "      box-shadow: 0px 1px 2px rgba(60, 64, 67, 0.3), 0px 1px 3px 1px rgba(60, 64, 67, 0.15);\n",
              "      fill: #174EA6;\n",
              "    }\n",
              "\n",
              "    .colab-df-buttons div {\n",
              "      margin-bottom: 4px;\n",
              "    }\n",
              "\n",
              "    [theme=dark] .colab-df-convert {\n",
              "      background-color: #3B4455;\n",
              "      fill: #D2E3FC;\n",
              "    }\n",
              "\n",
              "    [theme=dark] .colab-df-convert:hover {\n",
              "      background-color: #434B5C;\n",
              "      box-shadow: 0px 1px 3px 1px rgba(0, 0, 0, 0.15);\n",
              "      filter: drop-shadow(0px 1px 2px rgba(0, 0, 0, 0.3));\n",
              "      fill: #FFFFFF;\n",
              "    }\n",
              "  </style>\n",
              "\n",
              "    <script>\n",
              "      const buttonEl =\n",
              "        document.querySelector('#df-bab6bd74-ce86-4ee9-97c2-66e9ca1c4905 button.colab-df-convert');\n",
              "      buttonEl.style.display =\n",
              "        google.colab.kernel.accessAllowed ? 'block' : 'none';\n",
              "\n",
              "      async function convertToInteractive(key) {\n",
              "        const element = document.querySelector('#df-bab6bd74-ce86-4ee9-97c2-66e9ca1c4905');\n",
              "        const dataTable =\n",
              "          await google.colab.kernel.invokeFunction('convertToInteractive',\n",
              "                                                    [key], {});\n",
              "        if (!dataTable) return;\n",
              "\n",
              "        const docLinkHtml = 'Like what you see? Visit the ' +\n",
              "          '<a target=\"_blank\" href=https://colab.research.google.com/notebooks/data_table.ipynb>data table notebook</a>'\n",
              "          + ' to learn more about interactive tables.';\n",
              "        element.innerHTML = '';\n",
              "        dataTable['output_type'] = 'display_data';\n",
              "        await google.colab.output.renderOutput(dataTable, element);\n",
              "        const docLink = document.createElement('div');\n",
              "        docLink.innerHTML = docLinkHtml;\n",
              "        element.appendChild(docLink);\n",
              "      }\n",
              "    </script>\n",
              "  </div>\n",
              "\n",
              "\n",
              "    <div id=\"df-48330c09-e216-401c-91df-f389f3920d47\">\n",
              "      <button class=\"colab-df-quickchart\" onclick=\"quickchart('df-48330c09-e216-401c-91df-f389f3920d47')\"\n",
              "                title=\"Suggest charts\"\n",
              "                style=\"display:none;\">\n",
              "\n",
              "<svg xmlns=\"http://www.w3.org/2000/svg\" height=\"24px\"viewBox=\"0 0 24 24\"\n",
              "     width=\"24px\">\n",
              "    <g>\n",
              "        <path d=\"M19 3H5c-1.1 0-2 .9-2 2v14c0 1.1.9 2 2 2h14c1.1 0 2-.9 2-2V5c0-1.1-.9-2-2-2zM9 17H7v-7h2v7zm4 0h-2V7h2v10zm4 0h-2v-4h2v4z\"/>\n",
              "    </g>\n",
              "</svg>\n",
              "      </button>\n",
              "\n",
              "<style>\n",
              "  .colab-df-quickchart {\n",
              "      --bg-color: #E8F0FE;\n",
              "      --fill-color: #1967D2;\n",
              "      --hover-bg-color: #E2EBFA;\n",
              "      --hover-fill-color: #174EA6;\n",
              "      --disabled-fill-color: #AAA;\n",
              "      --disabled-bg-color: #DDD;\n",
              "  }\n",
              "\n",
              "  [theme=dark] .colab-df-quickchart {\n",
              "      --bg-color: #3B4455;\n",
              "      --fill-color: #D2E3FC;\n",
              "      --hover-bg-color: #434B5C;\n",
              "      --hover-fill-color: #FFFFFF;\n",
              "      --disabled-bg-color: #3B4455;\n",
              "      --disabled-fill-color: #666;\n",
              "  }\n",
              "\n",
              "  .colab-df-quickchart {\n",
              "    background-color: var(--bg-color);\n",
              "    border: none;\n",
              "    border-radius: 50%;\n",
              "    cursor: pointer;\n",
              "    display: none;\n",
              "    fill: var(--fill-color);\n",
              "    height: 32px;\n",
              "    padding: 0;\n",
              "    width: 32px;\n",
              "  }\n",
              "\n",
              "  .colab-df-quickchart:hover {\n",
              "    background-color: var(--hover-bg-color);\n",
              "    box-shadow: 0 1px 2px rgba(60, 64, 67, 0.3), 0 1px 3px 1px rgba(60, 64, 67, 0.15);\n",
              "    fill: var(--button-hover-fill-color);\n",
              "  }\n",
              "\n",
              "  .colab-df-quickchart-complete:disabled,\n",
              "  .colab-df-quickchart-complete:disabled:hover {\n",
              "    background-color: var(--disabled-bg-color);\n",
              "    fill: var(--disabled-fill-color);\n",
              "    box-shadow: none;\n",
              "  }\n",
              "\n",
              "  .colab-df-spinner {\n",
              "    border: 2px solid var(--fill-color);\n",
              "    border-color: transparent;\n",
              "    border-bottom-color: var(--fill-color);\n",
              "    animation:\n",
              "      spin 1s steps(1) infinite;\n",
              "  }\n",
              "\n",
              "  @keyframes spin {\n",
              "    0% {\n",
              "      border-color: transparent;\n",
              "      border-bottom-color: var(--fill-color);\n",
              "      border-left-color: var(--fill-color);\n",
              "    }\n",
              "    20% {\n",
              "      border-color: transparent;\n",
              "      border-left-color: var(--fill-color);\n",
              "      border-top-color: var(--fill-color);\n",
              "    }\n",
              "    30% {\n",
              "      border-color: transparent;\n",
              "      border-left-color: var(--fill-color);\n",
              "      border-top-color: var(--fill-color);\n",
              "      border-right-color: var(--fill-color);\n",
              "    }\n",
              "    40% {\n",
              "      border-color: transparent;\n",
              "      border-right-color: var(--fill-color);\n",
              "      border-top-color: var(--fill-color);\n",
              "    }\n",
              "    60% {\n",
              "      border-color: transparent;\n",
              "      border-right-color: var(--fill-color);\n",
              "    }\n",
              "    80% {\n",
              "      border-color: transparent;\n",
              "      border-right-color: var(--fill-color);\n",
              "      border-bottom-color: var(--fill-color);\n",
              "    }\n",
              "    90% {\n",
              "      border-color: transparent;\n",
              "      border-bottom-color: var(--fill-color);\n",
              "    }\n",
              "  }\n",
              "</style>\n",
              "\n",
              "      <script>\n",
              "        async function quickchart(key) {\n",
              "          const quickchartButtonEl =\n",
              "            document.querySelector('#' + key + ' button');\n",
              "          quickchartButtonEl.disabled = true;  // To prevent multiple clicks.\n",
              "          quickchartButtonEl.classList.add('colab-df-spinner');\n",
              "          try {\n",
              "            const charts = await google.colab.kernel.invokeFunction(\n",
              "                'suggestCharts', [key], {});\n",
              "          } catch (error) {\n",
              "            console.error('Error during call to suggestCharts:', error);\n",
              "          }\n",
              "          quickchartButtonEl.classList.remove('colab-df-spinner');\n",
              "          quickchartButtonEl.classList.add('colab-df-quickchart-complete');\n",
              "        }\n",
              "        (() => {\n",
              "          let quickchartButtonEl =\n",
              "            document.querySelector('#df-48330c09-e216-401c-91df-f389f3920d47 button');\n",
              "          quickchartButtonEl.style.display =\n",
              "            google.colab.kernel.accessAllowed ? 'block' : 'none';\n",
              "        })();\n",
              "      </script>\n",
              "    </div>\n",
              "\n",
              "    </div>\n",
              "  </div>\n"
            ],
            "application/vnd.google.colaboratory.intrinsic+json": {
              "type": "dataframe",
              "variable_name": "df_greek",
              "summary": "{\n  \"name\": \"df_greek\",\n  \"rows\": 445,\n  \"fields\": [\n    {\n      \"column\": \"name-english\",\n      \"properties\": {\n        \"dtype\": \"string\",\n        \"num_unique_values\": 445,\n        \"samples\": [\n          \"Britomartis\",\n          \"Agdistis\",\n          \"Homados\"\n        ],\n        \"semantic_type\": \"\",\n        \"description\": \"\"\n      }\n    },\n    {\n      \"column\": \"name-greek\",\n      \"properties\": {\n        \"dtype\": \"string\",\n        \"num_unique_values\": 441,\n        \"samples\": [\n          \"\\u1f08\\u03bc\\u03c6\\u03b9\\u03bb\\u03bf\\u03b3\\u03af\\u03b1\\u03b9\",\n          \"\\u0391\\u03c5\\u03be\\u03b7\\u03c3\\u03af\\u03b1\",\n          \"\\u03a6\\u03b9\\u03bb\\u03bf\\u03c6\\u03c1\\u03bf\\u03c3\\u03cd\\u03bd\\u03b7\"\n        ],\n        \"semantic_type\": \"\",\n        \"description\": \"\"\n      }\n    },\n    {\n      \"column\": \"main-type\",\n      \"properties\": {\n        \"dtype\": \"category\",\n        \"num_unique_values\": 3,\n        \"samples\": [\n          \"god\",\n          \"titan\",\n          \"personification\"\n        ],\n        \"semantic_type\": \"\",\n        \"description\": \"\"\n      }\n    },\n    {\n      \"column\": \"sub-type\",\n      \"properties\": {\n        \"dtype\": \"category\",\n        \"num_unique_values\": 16,\n        \"samples\": [\n          \"olympian\",\n          \"primordial\",\n          \"personification\"\n        ],\n        \"semantic_type\": \"\",\n        \"description\": \"\"\n      }\n    },\n    {\n      \"column\": \"description\",\n      \"properties\": {\n        \"dtype\": \"string\",\n        \"num_unique_values\": 395,\n        \"samples\": [\n          \"spirits of disputes, debate, and contention\",\n          \"goddess of the love charm\",\n          \"goddess of the morning dew\"\n        ],\n        \"semantic_type\": \"\",\n        \"description\": \"\"\n      }\n    }\n  ]\n}"
            }
          },
          "metadata": {},
          "execution_count": 3
        }
      ]
    },
    {
      "cell_type": "markdown",
      "source": [
        "#### Como son 2, comprobamos el otro tambien visualizando las 5 primeras lineas"
      ],
      "metadata": {
        "id": "MDksQARp4ltV"
      }
    },
    {
      "cell_type": "code",
      "source": [
        "# Visualizamos el otro dataset\n",
        "df_greek2.head()"
      ],
      "metadata": {
        "colab": {
          "base_uri": "https://localhost:8080/",
          "height": 310
        },
        "id": "Ic2fctAgSAZ8",
        "outputId": "4a750e99-52f8-4a1b-aa94-a921548a3cfd"
      },
      "execution_count": 4,
      "outputs": [
        {
          "output_type": "execute_result",
          "data": {
            "text/plain": [
              "  name-english name-greek main-type  sub-type  \\\n",
              "0    Aphrodite   Ἀφροδίτη       god  olympian   \n",
              "1       Apollo    Ἀπόλλων       god  olympian   \n",
              "2         Ares       Ἄρης       god  olympian   \n",
              "3      Artemis    Ἄρτεμις       god  olympian   \n",
              "4       Athena      Ἀθηνᾶ       god  olympian   \n",
              "\n",
              "                                         description  \n",
              "0      goddess of beauty, love, desire, and pleasure  \n",
              "1  god of music, arts, knowledge, healing, plague...  \n",
              "2       god of courage, war, bloodshed, and violence  \n",
              "3  virgin goddess of the hunt, wilderness, animal...  \n",
              "4  goddess of reason, wisdom, intelligence, skill...  "
            ],
            "text/html": [
              "\n",
              "  <div id=\"df-0b1718ca-60f0-4bda-bbed-83e12d1344d8\" class=\"colab-df-container\">\n",
              "    <div>\n",
              "<style scoped>\n",
              "    .dataframe tbody tr th:only-of-type {\n",
              "        vertical-align: middle;\n",
              "    }\n",
              "\n",
              "    .dataframe tbody tr th {\n",
              "        vertical-align: top;\n",
              "    }\n",
              "\n",
              "    .dataframe thead th {\n",
              "        text-align: right;\n",
              "    }\n",
              "</style>\n",
              "<table border=\"1\" class=\"dataframe\">\n",
              "  <thead>\n",
              "    <tr style=\"text-align: right;\">\n",
              "      <th></th>\n",
              "      <th>name-english</th>\n",
              "      <th>name-greek</th>\n",
              "      <th>main-type</th>\n",
              "      <th>sub-type</th>\n",
              "      <th>description</th>\n",
              "    </tr>\n",
              "  </thead>\n",
              "  <tbody>\n",
              "    <tr>\n",
              "      <th>0</th>\n",
              "      <td>Aphrodite</td>\n",
              "      <td>Ἀφροδίτη</td>\n",
              "      <td>god</td>\n",
              "      <td>olympian</td>\n",
              "      <td>goddess of beauty, love, desire, and pleasure</td>\n",
              "    </tr>\n",
              "    <tr>\n",
              "      <th>1</th>\n",
              "      <td>Apollo</td>\n",
              "      <td>Ἀπόλλων</td>\n",
              "      <td>god</td>\n",
              "      <td>olympian</td>\n",
              "      <td>god of music, arts, knowledge, healing, plague...</td>\n",
              "    </tr>\n",
              "    <tr>\n",
              "      <th>2</th>\n",
              "      <td>Ares</td>\n",
              "      <td>Ἄρης</td>\n",
              "      <td>god</td>\n",
              "      <td>olympian</td>\n",
              "      <td>god of courage, war, bloodshed, and violence</td>\n",
              "    </tr>\n",
              "    <tr>\n",
              "      <th>3</th>\n",
              "      <td>Artemis</td>\n",
              "      <td>Ἄρτεμις</td>\n",
              "      <td>god</td>\n",
              "      <td>olympian</td>\n",
              "      <td>virgin goddess of the hunt, wilderness, animal...</td>\n",
              "    </tr>\n",
              "    <tr>\n",
              "      <th>4</th>\n",
              "      <td>Athena</td>\n",
              "      <td>Ἀθηνᾶ</td>\n",
              "      <td>god</td>\n",
              "      <td>olympian</td>\n",
              "      <td>goddess of reason, wisdom, intelligence, skill...</td>\n",
              "    </tr>\n",
              "  </tbody>\n",
              "</table>\n",
              "</div>\n",
              "    <div class=\"colab-df-buttons\">\n",
              "\n",
              "  <div class=\"colab-df-container\">\n",
              "    <button class=\"colab-df-convert\" onclick=\"convertToInteractive('df-0b1718ca-60f0-4bda-bbed-83e12d1344d8')\"\n",
              "            title=\"Convert this dataframe to an interactive table.\"\n",
              "            style=\"display:none;\">\n",
              "\n",
              "  <svg xmlns=\"http://www.w3.org/2000/svg\" height=\"24px\" viewBox=\"0 -960 960 960\">\n",
              "    <path d=\"M120-120v-720h720v720H120Zm60-500h600v-160H180v160Zm220 220h160v-160H400v160Zm0 220h160v-160H400v160ZM180-400h160v-160H180v160Zm440 0h160v-160H620v160ZM180-180h160v-160H180v160Zm440 0h160v-160H620v160Z\"/>\n",
              "  </svg>\n",
              "    </button>\n",
              "\n",
              "  <style>\n",
              "    .colab-df-container {\n",
              "      display:flex;\n",
              "      gap: 12px;\n",
              "    }\n",
              "\n",
              "    .colab-df-convert {\n",
              "      background-color: #E8F0FE;\n",
              "      border: none;\n",
              "      border-radius: 50%;\n",
              "      cursor: pointer;\n",
              "      display: none;\n",
              "      fill: #1967D2;\n",
              "      height: 32px;\n",
              "      padding: 0 0 0 0;\n",
              "      width: 32px;\n",
              "    }\n",
              "\n",
              "    .colab-df-convert:hover {\n",
              "      background-color: #E2EBFA;\n",
              "      box-shadow: 0px 1px 2px rgba(60, 64, 67, 0.3), 0px 1px 3px 1px rgba(60, 64, 67, 0.15);\n",
              "      fill: #174EA6;\n",
              "    }\n",
              "\n",
              "    .colab-df-buttons div {\n",
              "      margin-bottom: 4px;\n",
              "    }\n",
              "\n",
              "    [theme=dark] .colab-df-convert {\n",
              "      background-color: #3B4455;\n",
              "      fill: #D2E3FC;\n",
              "    }\n",
              "\n",
              "    [theme=dark] .colab-df-convert:hover {\n",
              "      background-color: #434B5C;\n",
              "      box-shadow: 0px 1px 3px 1px rgba(0, 0, 0, 0.15);\n",
              "      filter: drop-shadow(0px 1px 2px rgba(0, 0, 0, 0.3));\n",
              "      fill: #FFFFFF;\n",
              "    }\n",
              "  </style>\n",
              "\n",
              "    <script>\n",
              "      const buttonEl =\n",
              "        document.querySelector('#df-0b1718ca-60f0-4bda-bbed-83e12d1344d8 button.colab-df-convert');\n",
              "      buttonEl.style.display =\n",
              "        google.colab.kernel.accessAllowed ? 'block' : 'none';\n",
              "\n",
              "      async function convertToInteractive(key) {\n",
              "        const element = document.querySelector('#df-0b1718ca-60f0-4bda-bbed-83e12d1344d8');\n",
              "        const dataTable =\n",
              "          await google.colab.kernel.invokeFunction('convertToInteractive',\n",
              "                                                    [key], {});\n",
              "        if (!dataTable) return;\n",
              "\n",
              "        const docLinkHtml = 'Like what you see? Visit the ' +\n",
              "          '<a target=\"_blank\" href=https://colab.research.google.com/notebooks/data_table.ipynb>data table notebook</a>'\n",
              "          + ' to learn more about interactive tables.';\n",
              "        element.innerHTML = '';\n",
              "        dataTable['output_type'] = 'display_data';\n",
              "        await google.colab.output.renderOutput(dataTable, element);\n",
              "        const docLink = document.createElement('div');\n",
              "        docLink.innerHTML = docLinkHtml;\n",
              "        element.appendChild(docLink);\n",
              "      }\n",
              "    </script>\n",
              "  </div>\n",
              "\n",
              "\n",
              "    <div id=\"df-4137858c-277a-4fe0-964d-984d8dbcc3b3\">\n",
              "      <button class=\"colab-df-quickchart\" onclick=\"quickchart('df-4137858c-277a-4fe0-964d-984d8dbcc3b3')\"\n",
              "                title=\"Suggest charts\"\n",
              "                style=\"display:none;\">\n",
              "\n",
              "<svg xmlns=\"http://www.w3.org/2000/svg\" height=\"24px\"viewBox=\"0 0 24 24\"\n",
              "     width=\"24px\">\n",
              "    <g>\n",
              "        <path d=\"M19 3H5c-1.1 0-2 .9-2 2v14c0 1.1.9 2 2 2h14c1.1 0 2-.9 2-2V5c0-1.1-.9-2-2-2zM9 17H7v-7h2v7zm4 0h-2V7h2v10zm4 0h-2v-4h2v4z\"/>\n",
              "    </g>\n",
              "</svg>\n",
              "      </button>\n",
              "\n",
              "<style>\n",
              "  .colab-df-quickchart {\n",
              "      --bg-color: #E8F0FE;\n",
              "      --fill-color: #1967D2;\n",
              "      --hover-bg-color: #E2EBFA;\n",
              "      --hover-fill-color: #174EA6;\n",
              "      --disabled-fill-color: #AAA;\n",
              "      --disabled-bg-color: #DDD;\n",
              "  }\n",
              "\n",
              "  [theme=dark] .colab-df-quickchart {\n",
              "      --bg-color: #3B4455;\n",
              "      --fill-color: #D2E3FC;\n",
              "      --hover-bg-color: #434B5C;\n",
              "      --hover-fill-color: #FFFFFF;\n",
              "      --disabled-bg-color: #3B4455;\n",
              "      --disabled-fill-color: #666;\n",
              "  }\n",
              "\n",
              "  .colab-df-quickchart {\n",
              "    background-color: var(--bg-color);\n",
              "    border: none;\n",
              "    border-radius: 50%;\n",
              "    cursor: pointer;\n",
              "    display: none;\n",
              "    fill: var(--fill-color);\n",
              "    height: 32px;\n",
              "    padding: 0;\n",
              "    width: 32px;\n",
              "  }\n",
              "\n",
              "  .colab-df-quickchart:hover {\n",
              "    background-color: var(--hover-bg-color);\n",
              "    box-shadow: 0 1px 2px rgba(60, 64, 67, 0.3), 0 1px 3px 1px rgba(60, 64, 67, 0.15);\n",
              "    fill: var(--button-hover-fill-color);\n",
              "  }\n",
              "\n",
              "  .colab-df-quickchart-complete:disabled,\n",
              "  .colab-df-quickchart-complete:disabled:hover {\n",
              "    background-color: var(--disabled-bg-color);\n",
              "    fill: var(--disabled-fill-color);\n",
              "    box-shadow: none;\n",
              "  }\n",
              "\n",
              "  .colab-df-spinner {\n",
              "    border: 2px solid var(--fill-color);\n",
              "    border-color: transparent;\n",
              "    border-bottom-color: var(--fill-color);\n",
              "    animation:\n",
              "      spin 1s steps(1) infinite;\n",
              "  }\n",
              "\n",
              "  @keyframes spin {\n",
              "    0% {\n",
              "      border-color: transparent;\n",
              "      border-bottom-color: var(--fill-color);\n",
              "      border-left-color: var(--fill-color);\n",
              "    }\n",
              "    20% {\n",
              "      border-color: transparent;\n",
              "      border-left-color: var(--fill-color);\n",
              "      border-top-color: var(--fill-color);\n",
              "    }\n",
              "    30% {\n",
              "      border-color: transparent;\n",
              "      border-left-color: var(--fill-color);\n",
              "      border-top-color: var(--fill-color);\n",
              "      border-right-color: var(--fill-color);\n",
              "    }\n",
              "    40% {\n",
              "      border-color: transparent;\n",
              "      border-right-color: var(--fill-color);\n",
              "      border-top-color: var(--fill-color);\n",
              "    }\n",
              "    60% {\n",
              "      border-color: transparent;\n",
              "      border-right-color: var(--fill-color);\n",
              "    }\n",
              "    80% {\n",
              "      border-color: transparent;\n",
              "      border-right-color: var(--fill-color);\n",
              "      border-bottom-color: var(--fill-color);\n",
              "    }\n",
              "    90% {\n",
              "      border-color: transparent;\n",
              "      border-bottom-color: var(--fill-color);\n",
              "    }\n",
              "  }\n",
              "</style>\n",
              "\n",
              "      <script>\n",
              "        async function quickchart(key) {\n",
              "          const quickchartButtonEl =\n",
              "            document.querySelector('#' + key + ' button');\n",
              "          quickchartButtonEl.disabled = true;  // To prevent multiple clicks.\n",
              "          quickchartButtonEl.classList.add('colab-df-spinner');\n",
              "          try {\n",
              "            const charts = await google.colab.kernel.invokeFunction(\n",
              "                'suggestCharts', [key], {});\n",
              "          } catch (error) {\n",
              "            console.error('Error during call to suggestCharts:', error);\n",
              "          }\n",
              "          quickchartButtonEl.classList.remove('colab-df-spinner');\n",
              "          quickchartButtonEl.classList.add('colab-df-quickchart-complete');\n",
              "        }\n",
              "        (() => {\n",
              "          let quickchartButtonEl =\n",
              "            document.querySelector('#df-4137858c-277a-4fe0-964d-984d8dbcc3b3 button');\n",
              "          quickchartButtonEl.style.display =\n",
              "            google.colab.kernel.accessAllowed ? 'block' : 'none';\n",
              "        })();\n",
              "      </script>\n",
              "    </div>\n",
              "\n",
              "    </div>\n",
              "  </div>\n"
            ],
            "application/vnd.google.colaboratory.intrinsic+json": {
              "type": "dataframe",
              "variable_name": "df_greek2",
              "summary": "{\n  \"name\": \"df_greek2\",\n  \"rows\": 445,\n  \"fields\": [\n    {\n      \"column\": \"name-english\",\n      \"properties\": {\n        \"dtype\": \"string\",\n        \"num_unique_values\": 445,\n        \"samples\": [\n          \"Britomartis\",\n          \"Agdistis\",\n          \"Homados\"\n        ],\n        \"semantic_type\": \"\",\n        \"description\": \"\"\n      }\n    },\n    {\n      \"column\": \"name-greek\",\n      \"properties\": {\n        \"dtype\": \"string\",\n        \"num_unique_values\": 441,\n        \"samples\": [\n          \"\\u1f08\\u03bc\\u03c6\\u03b9\\u03bb\\u03bf\\u03b3\\u03af\\u03b1\\u03b9\",\n          \"\\u0391\\u03c5\\u03be\\u03b7\\u03c3\\u03af\\u03b1\",\n          \"\\u03a6\\u03b9\\u03bb\\u03bf\\u03c6\\u03c1\\u03bf\\u03c3\\u03cd\\u03bd\\u03b7\"\n        ],\n        \"semantic_type\": \"\",\n        \"description\": \"\"\n      }\n    },\n    {\n      \"column\": \"main-type\",\n      \"properties\": {\n        \"dtype\": \"category\",\n        \"num_unique_values\": 3,\n        \"samples\": [\n          \"god\",\n          \"titan\",\n          \"personification\"\n        ],\n        \"semantic_type\": \"\",\n        \"description\": \"\"\n      }\n    },\n    {\n      \"column\": \"sub-type\",\n      \"properties\": {\n        \"dtype\": \"category\",\n        \"num_unique_values\": 16,\n        \"samples\": [\n          \"olympian\",\n          \"primordial\",\n          \"personification\"\n        ],\n        \"semantic_type\": \"\",\n        \"description\": \"\"\n      }\n    },\n    {\n      \"column\": \"description\",\n      \"properties\": {\n        \"dtype\": \"string\",\n        \"num_unique_values\": 395,\n        \"samples\": [\n          \"spirits of disputes, debate, and contention\",\n          \"goddess of the love charm\",\n          \"goddess of the morning dew\"\n        ],\n        \"semantic_type\": \"\",\n        \"description\": \"\"\n      }\n    }\n  ]\n}"
            }
          },
          "metadata": {},
          "execution_count": 4
        }
      ]
    },
    {
      "cell_type": "markdown",
      "source": [
        "### En este punto me surgió la duda de cual dataset usar, si habia 2 no podian ser identicos y asi...\n",
        "\n",
        "#### Me embarque en una odisea buscando cual es la diferencia\n"
      ],
      "metadata": {
        "id": "V36VS-HX42ML"
      }
    },
    {
      "cell_type": "markdown",
      "source": [
        "#### Usamos `.shape` para ver cuantas filas y columnas tienen"
      ],
      "metadata": {
        "id": "-RdTwqfX4tTt"
      }
    },
    {
      "cell_type": "code",
      "source": [
        "print(df_greek.shape)\n",
        "print(df_greek2.shape)"
      ],
      "metadata": {
        "colab": {
          "base_uri": "https://localhost:8080/"
        },
        "id": "g9geVIF2SP7x",
        "outputId": "5bf4e3df-cbd3-486c-90a0-4b6a1e3df63c"
      },
      "execution_count": null,
      "outputs": [
        {
          "output_type": "stream",
          "name": "stdout",
          "text": [
            "(445, 5)\n",
            "(445, 5)\n"
          ]
        }
      ]
    },
    {
      "cell_type": "markdown",
      "source": [
        "#### Aparentemente no hay diferencias, mismas filas y columnas"
      ],
      "metadata": {
        "id": "XkxR9THH5Qos"
      }
    },
    {
      "cell_type": "code",
      "source": [
        "print(df_greek.columns)\n",
        "print(df_greek2.columns)"
      ],
      "metadata": {
        "colab": {
          "base_uri": "https://localhost:8080/"
        },
        "id": "6cBzxtCDSvuT",
        "outputId": "c8afc473-74f8-4aaa-c812-9702b71e969b"
      },
      "execution_count": 5,
      "outputs": [
        {
          "output_type": "stream",
          "name": "stdout",
          "text": [
            "Index(['name-english', 'name-greek', 'main-type', 'sub-type', 'description'], dtype='object')\n",
            "Index(['name-english', 'name-greek', 'main-type', 'sub-type', 'description'], dtype='object')\n"
          ]
        }
      ]
    },
    {
      "cell_type": "markdown",
      "source": [
        "#### Con `.columns` buscamos ver que columnas los componen y como se llaman\n",
        "\n",
        "#### Parece que las columnas son iguales"
      ],
      "metadata": {
        "id": "gqxmQQ7n5XgS"
      }
    },
    {
      "cell_type": "code",
      "source": [
        "print(df_greek.isnull().sum())\n",
        "print(df_greek2.isnull().sum())"
      ],
      "metadata": {
        "colab": {
          "base_uri": "https://localhost:8080/"
        },
        "id": "kWIRU7N3TJUY",
        "outputId": "e8d94407-125e-49cd-e8ef-1edf7859f7df"
      },
      "execution_count": 7,
      "outputs": [
        {
          "output_type": "stream",
          "name": "stdout",
          "text": [
            "name-english    0\n",
            "name-greek      0\n",
            "main-type       0\n",
            "sub-type        0\n",
            "description     0\n",
            "dtype: int64\n",
            "name-english    0\n",
            "name-greek      0\n",
            "main-type       0\n",
            "sub-type        0\n",
            "description     0\n",
            "dtype: int64\n"
          ]
        }
      ]
    },
    {
      "cell_type": "markdown",
      "source": [
        "#### Buscamos si tienen nulos.\n",
        "\n",
        "#### Ninguno de los datasets tienen nulos"
      ],
      "metadata": {
        "id": "BEFRhkEA5um6"
      }
    },
    {
      "cell_type": "code",
      "source": [
        "print(df_greek.describe())\n",
        "print(df_greek2.describe())"
      ],
      "metadata": {
        "colab": {
          "base_uri": "https://localhost:8080/"
        },
        "id": "-osdecYjTpUj",
        "outputId": "05714b49-204b-4c6b-9af8-4aee57936487"
      },
      "execution_count": 8,
      "outputs": [
        {
          "output_type": "stream",
          "name": "stdout",
          "text": [
            "       name-english name-greek main-type         sub-type  \\\n",
            "count           445        445       445              445   \n",
            "unique          445        441         3               16   \n",
            "top           Damia     Πόντος       god  personification   \n",
            "freq              1          2       307              110   \n",
            "\n",
            "                                              description  \n",
            "count                                                 445  \n",
            "unique                                                395  \n",
            "top     sea spirit native to the island of rhodes (tel...  \n",
            "freq                                                   16  \n",
            "       name-english name-greek main-type         sub-type  \\\n",
            "count           445        445       445              445   \n",
            "unique          445        441         3               16   \n",
            "top           Damia     Πόντος       god  personification   \n",
            "freq              1          2       307              110   \n",
            "\n",
            "                                              description  \n",
            "count                                                 445  \n",
            "unique                                                395  \n",
            "top     sea spirit native to the island of rhodes (tel...  \n",
            "freq                                                   16  \n"
          ]
        }
      ]
    },
    {
      "cell_type": "markdown",
      "source": [
        "#### con `.describe()` obtengo un resumen de las estadisticas pero se sigue sin observar ninguna diferencia en los datasets\n",
        "\n",
        "#### En este punto ya empecé a dudar, lo fácil hubiera sido ir a la página y buscar si se ha documentado un cambio pero queria averiguarlo por mi misma\n",
        "\n",
        "#### Siguiendo con la premisa de que no podian ser iguales, seguí buscando esa diferencia"
      ],
      "metadata": {
        "id": "I3tyaoFf5-OM"
      }
    },
    {
      "cell_type": "code",
      "source": [
        "# Metodo definitivo para comparar Dataframes\n",
        "son_iguales = df_greek.equals(df_greek2)\n",
        "print(f\"¿Los datasets son idénticos? {son_iguales}\")\n",
        "\n",
        "# Para ver diferencias especificas, si las hubiera\n",
        "diferencias = df_greek.compare(df_greek2) if not son_iguales else \"No hay diferencias\"\n",
        "print(diferencias)"
      ],
      "metadata": {
        "colab": {
          "base_uri": "https://localhost:8080/"
        },
        "id": "IVEom8VRXzkv",
        "outputId": "5e213338-efa5-4009-d345-20a4cee32967"
      },
      "execution_count": 9,
      "outputs": [
        {
          "output_type": "stream",
          "name": "stdout",
          "text": [
            "¿Los datasets son idénticos? False\n",
            "    sub-type      \n",
            "        self other\n",
            "419    other  muse\n",
            "420    other  muse\n",
            "421    other  muse\n",
            "422    other  muse\n",
            "423    other  muse\n",
            "424    other  muse\n",
            "425    other  muse\n",
            "426    other  muse\n",
            "427    other  muse\n",
            "428    other  muse\n",
            "429    other  muse\n",
            "430    other  muse\n",
            "431    other  muse\n"
          ]
        }
      ]
    },
    {
      "cell_type": "markdown",
      "source": [
        "#### Usando `.equals` busqué cambios especificos.\n",
        "\n",
        "#### La pregunta era: ¿son realmente iguales?, la respuesta era falso, y abajo aparece que se cambió\n",
        "\n",
        "+ Parece que el cambio fue que en las filas que se indican el sub-type `other` pasó a ser `muse`"
      ],
      "metadata": {
        "id": "zUW2Rgif7DhN"
      }
    },
    {
      "cell_type": "markdown",
      "source": [
        "#### Aunque ya sabia que fue lo que cambió quise comprobarlo por otros caminos, para repasar y para ver como se llegaba de otras formas a la misma conclusion"
      ],
      "metadata": {
        "id": "HaHqwqFm7nD2"
      }
    },
    {
      "cell_type": "code",
      "source": [
        "# Primero veamos exactamente qué columnas hay\n",
        "print(\"=== COLUMNAS REALES DEL DATASET ===\")\n",
        "print(\"Columnas:\", df_greek.columns.tolist())\n",
        "print(\"\\nVeamos las primeras filas para entender la estructura:\")\n",
        "print(df_greek.head())"
      ],
      "metadata": {
        "colab": {
          "base_uri": "https://localhost:8080/"
        },
        "id": "HMsVj9A-dDDB",
        "outputId": "6b238a93-5274-4462-a6a7-bd6bd2bac70b"
      },
      "execution_count": 10,
      "outputs": [
        {
          "output_type": "stream",
          "name": "stdout",
          "text": [
            "=== COLUMNAS REALES DEL DATASET ===\n",
            "Columnas: ['name-english', 'name-greek', 'main-type', 'sub-type', 'description']\n",
            "\n",
            "Veamos las primeras filas para entender la estructura:\n",
            "  name-english name-greek main-type  sub-type  \\\n",
            "0    Aphrodite   Ἀφροδίτη       god  olympian   \n",
            "1       Apollo    Ἀπόλλων       god  olympian   \n",
            "2         Ares       Ἄρης       god  olympian   \n",
            "3      Artemis    Ἄρτεμις       god  olympian   \n",
            "4       Athena      Ἀθηνᾶ       god  olympian   \n",
            "\n",
            "                                         description  \n",
            "0      goddess of beauty, love, desire, and pleasure  \n",
            "1  god of music, arts, knowledge, healing, plague...  \n",
            "2       god of courage, war, bloodshed, and violence  \n",
            "3  virgin goddess of the hunt, wilderness, animal...  \n",
            "4  goddess of reason, wisdom, intelligence, skill...  \n"
          ]
        }
      ]
    },
    {
      "cell_type": "markdown",
      "source": [
        "#### Ya con `.loc` y `.unique` encontré especificamente que fallaba"
      ],
      "metadata": {
        "id": "t5hLAhBd8AFE"
      }
    },
    {
      "cell_type": "code",
      "source": [
        "# Veamos exactamente que cambió\n",
        "# lo hecho en el bloque de codigo anterior nos dice como se llaman las columnas y asi las podemos solicitar sin problemas\n",
        "print(\"=== En el dataset original ===\")\n",
        "print(df_greek.loc[419:431, ['name-english', 'main-type', 'sub-type']])\n",
        "\n",
        "print(\"\\n=== En el dataset actualizado ===\")\n",
        "print(df_greek2.loc[419:431, ['name-english', 'main-type', 'sub-type']])\n",
        "\n",
        "#Veamos todos los tipos únicos en cada dataset\n",
        "print(f\"\\nTipos en dataset 1: {sorted(df_greek['main-type'].unique())}\")\n",
        "print(f\"Tipos en dataset 2: {sorted(df_greek2['main-type'].unique())}\")"
      ],
      "metadata": {
        "colab": {
          "base_uri": "https://localhost:8080/"
        },
        "id": "Il8YAegwa6AA",
        "outputId": "9c8b1630-9b49-4ebf-cf15-10e34df02bff"
      },
      "execution_count": 11,
      "outputs": [
        {
          "output_type": "stream",
          "name": "stdout",
          "text": [
            "=== En el dataset original ===\n",
            "    name-english main-type sub-type\n",
            "419        Aoide       god    other\n",
            "420        Arche       god    other\n",
            "421       Melete       god    other\n",
            "422        Mneme       god    other\n",
            "423    Thelxinoe       god    other\n",
            "424     Calliope       god    other\n",
            "425         Clio       god    other\n",
            "426      Euterpe       god    other\n",
            "427        Erato       god    other\n",
            "428    Melpomene       god    other\n",
            "429  Polyhymnia        god    other\n",
            "430  Terpsichore       god    other\n",
            "431       Urania       god    other\n",
            "\n",
            "=== En el dataset actualizado ===\n",
            "    name-english main-type sub-type\n",
            "419        Aoide       god     muse\n",
            "420        Arche       god     muse\n",
            "421       Melete       god     muse\n",
            "422        Mneme       god     muse\n",
            "423    Thelxinoe       god     muse\n",
            "424     Calliope       god     muse\n",
            "425         Clio       god     muse\n",
            "426      Euterpe       god     muse\n",
            "427        Erato       god     muse\n",
            "428    Melpomene       god     muse\n",
            "429  Polyhymnia        god     muse\n",
            "430  Terpsichore       god     muse\n",
            "431       Urania       god     muse\n",
            "\n",
            "Tipos en dataset 1: ['god', 'personification', 'titan']\n",
            "Tipos en dataset 2: ['god', 'personification', 'titan']\n"
          ]
        }
      ]
    },
    {
      "cell_type": "markdown",
      "source": [
        "## Se encontró las diferencias de los 2 datasets!!!\n",
        "### tras unos analisis algo genericos sin encontrar nada, realice un analisis mas especifico buscando concienzudamente diferencias\n",
        "#### Lo que encontré fue que de la columna 419-431, la categoria type cambió de Other (generico) a muse (más especifico), se ve que en algun momento en la version 2 alguien mejoró eso y cambio todos los type de esas columnas.\n",
        "En las siguientes lineas investigo eso un poco más a fondo"
      ],
      "metadata": {
        "id": "7QGnVYdQaDGa"
      }
    },
    {
      "cell_type": "markdown",
      "source": [
        "### Hecho todo esto, y comparados los dos datasets\n",
        "Podemos saber ya que las diferencias radican en las columnas sub-type que cambian \"Other\" (mas generico), por \"muse\" (más especifico). asi que visto los resultados, he decidido seguir la leccion con el dataset version 2 porque es el más actualizado y completo y siempre es preferible hacer los analisis en los datasets más más limpios y precisos.\n",
        "A partir de ahora seguiremos los analisis con df_greek2"
      ],
      "metadata": {
        "id": "LOyTqeAhmWTx"
      }
    }
  ]
}