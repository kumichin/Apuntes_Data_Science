{
  "nbformat": 4,
  "nbformat_minor": 0,
  "metadata": {
    "colab": {
      "provenance": []
    },
    "kernelspec": {
      "name": "python3",
      "display_name": "Python 3"
    },
    "language_info": {
      "name": "python"
    }
  },
  "cells": [
    {
      "cell_type": "markdown",
      "source": [
        "# Plan del Día de NumPy\n",
        "\n",
        "* Creacion de arrays (np.array, np.arange, np.linspace)\n",
        "* Operaciones vectorizadas (sumas, restas, multiplicaciones)\n",
        "* reshape y dimensiones\n",
        "* slicing y acceso a elementos\n",
        "* broadcasting mágico\n",
        "* ejercicios para parcticar"
      ],
      "metadata": {
        "id": "VophnuzRw2fr"
      }
    },
    {
      "cell_type": "code",
      "execution_count": 1,
      "metadata": {
        "id": "HtymzMa0wGj8"
      },
      "outputs": [],
      "source": [
        "# importamos la biblioteca de Numpy\n",
        "# lo de as np es solo para escribir más corto, así no escribes numpy.array() sino np.array()\n",
        "import numpy as np"
      ]
    },
    {
      "cell_type": "markdown",
      "source": [
        "## ¿Qué es un array?\n",
        "#### Un array en Numpy es como una lista de números, pero mucho más potente y rápida"
      ],
      "metadata": {
        "id": "uEfTgwn0CA6A"
      }
    },
    {
      "cell_type": "code",
      "source": [
        "mi_lista = [1, 2, 3]           # Lista normal de Python\n",
        "mi_array = np.array(mi_lista)  # Array de NumPy"
      ],
      "metadata": {
        "id": "PjNFVOk5CRZS"
      },
      "execution_count": 2,
      "outputs": []
    },
    {
      "cell_type": "markdown",
      "source": [
        "### ¿Por qué usar arrays en lugar de listas?\n",
        "* Los arrays ocupan menos memoria\n",
        "* Permiten operaciones matemáticas directas (sumas, restas...)\n",
        "* Son más rápidos en cálculos grandes (¡Ideal para ciencia de datos!)"
      ],
      "metadata": {
        "id": "n7s-5vk-Cqfm"
      }
    },
    {
      "cell_type": "code",
      "source": [
        "# Ejemplo 1:\n",
        "a = np.array([10, 20, 30, 40])\n",
        "print(\"Array:\", a)"
      ],
      "metadata": {
        "colab": {
          "base_uri": "https://localhost:8080/"
        },
        "id": "YmThMt2hDOcu",
        "outputId": "a30dac48-9164-4e95-bb8d-efed91955860"
      },
      "execution_count": 3,
      "outputs": [
        {
          "output_type": "stream",
          "name": "stdout",
          "text": [
            "Array: [10 20 30 40]\n"
          ]
        }
      ]
    },
    {
      "cell_type": "markdown",
      "source": [
        "Aunque parece una lista, esto no es una lista de Python, es un array NumPy, lo que significa que puedes hacerle cosas matemáticas directamente"
      ],
      "metadata": {
        "id": "ctf1wcLiDdbl"
      }
    },
    {
      "cell_type": "code",
      "source": [
        "# Ejemplo 2:\n",
        "a = np.array([10, 20, 30 ,40])\n",
        "print(\"Suma +5:\", a + 5)\n",
        "print(\"Multiplicado por 2:\", a * 2)\n",
        "print(\"Cuadrado:\", a ** 2)\n",
        "\n",
        "# Esto no se puede hacer tan fácil con listas normales"
      ],
      "metadata": {
        "colab": {
          "base_uri": "https://localhost:8080/"
        },
        "id": "1FG93XVDDx8p",
        "outputId": "756814b2-03a3-4e31-f4ba-c5772a6957ff"
      },
      "execution_count": 4,
      "outputs": [
        {
          "output_type": "stream",
          "name": "stdout",
          "text": [
            "Suma +5: [15 25 35 45]\n",
            "Multiplicado por 2: [20 40 60 80]\n",
            "Cuadrado: [ 100  400  900 1600]\n"
          ]
        }
      ]
    },
    {
      "cell_type": "markdown",
      "source": [
        "## Visualización"
      ],
      "metadata": {
        "id": "3C3iqBSDE22U"
      }
    },
    {
      "cell_type": "markdown",
      "source": [
        "### Imagina el array como una fila de cajitas con números dentro:\n",
        "\n",
        "[10] [20]  [30]  [40]\n",
        "\n",
        "Cuando haces a + 5, le estás diciendo:\n",
        "\"Ey NumPy, suma 5 a cada cajita\".\n",
        "Y NumPy lo hace en paralelo, sin bucles. ¡Por eso es tan rápido!"
      ],
      "metadata": {
        "id": "YHJEPDfrFHgk"
      }
    },
    {
      "cell_type": "code",
      "source": [
        "mis_puntos = np.array([10, 6, 8, 2, 12, 4])\n",
        "print(\"Mis puntos originales:\", mis_puntos)\n",
        "print(\"Puntos +1 punto de premio:\", mis_puntos + 1 )\n",
        "print(\"Puntos * 20:\", mis_puntos * 20)\n",
        "print(\"La mitad de mis puntos:\", mis_puntos / 2)\n",
        "print(\"La media de mis puntos:\", mis_puntos.mean())\n",
        "print(\"La mediana de mis puntos:\", np.median(mis_puntos))"
      ],
      "metadata": {
        "colab": {
          "base_uri": "https://localhost:8080/"
        },
        "id": "CCCfJZVQE2NO",
        "outputId": "6395f6d8-44a5-4e25-ffc1-16e4338ea2d8"
      },
      "execution_count": 5,
      "outputs": [
        {
          "output_type": "stream",
          "name": "stdout",
          "text": [
            "Mis puntos originales: [10  6  8  2 12  4]\n",
            "Puntos +1 punto de premio: [11  7  9  3 13  5]\n",
            "Puntos * 20: [200 120 160  40 240  80]\n",
            "La mitad de mis puntos: [5. 3. 4. 1. 6. 2.]\n",
            "La media de mis puntos: 7.0\n",
            "La mediana de mis puntos: 7.0\n"
          ]
        }
      ]
    },
    {
      "cell_type": "markdown",
      "source": [
        "## LECCIÓN 2: Arrays 2D — Mini-tablas y matrices\n"
      ],
      "metadata": {
        "id": "pj9j7It2H8iW"
      }
    },
    {
      "cell_type": "markdown",
      "source": [
        "## 🧩 ¿Qué es un array 2D?\n",
        "### Un array 2D es como una tabla de filas y columnas, como si fuera una hoja de Excel o una matriz matemática."
      ],
      "metadata": {
        "id": "nWxBI3jgIEVo"
      }
    },
    {
      "cell_type": "code",
      "source": [
        "tabla = np.array([\n",
        "    [1, 2, 3],\n",
        "    [4, 5, 6],\n",
        "    [7, 8, 9]\n",
        "])\n",
        "print(tabla)\n",
        "\n",
        "# Tiene 3 filas y 3 columnas --> Se llama un array de forma (3, 3)"
      ],
      "metadata": {
        "colab": {
          "base_uri": "https://localhost:8080/"
        },
        "id": "Cs4vRva6IUKl",
        "outputId": "7d0555e2-2b08-44ab-a690-2e6082652035"
      },
      "execution_count": 6,
      "outputs": [
        {
          "output_type": "stream",
          "name": "stdout",
          "text": [
            "[[1 2 3]\n",
            " [4 5 6]\n",
            " [7 8 9]]\n"
          ]
        }
      ]
    },
    {
      "cell_type": "code",
      "source": [
        "# Ver forma y dimensiones\n",
        "\n",
        "print(\"Forma:\", tabla.shape)       # (filas, columnas)\n",
        "print(\"Dimensiones:\", tabla.ndim)  # Cuántas dimensiones tiene (2 en este caso)"
      ],
      "metadata": {
        "colab": {
          "base_uri": "https://localhost:8080/"
        },
        "id": "laBsdD99I2c7",
        "outputId": "5d876a26-f2fa-4cd5-a14b-e808ded06ec1"
      },
      "execution_count": 7,
      "outputs": [
        {
          "output_type": "stream",
          "name": "stdout",
          "text": [
            "Forma: (3, 3)\n",
            "Dimensiones: 2\n"
          ]
        }
      ]
    },
    {
      "cell_type": "markdown",
      "source": [
        "### Visualizacion de la estructura\n",
        "\n",
        "<pre> ``` columnas → 0 1 2\n",
        "┌────────────\n",
        "0 │ 1 2 3\n",
        "1 │ 4 5 6\n",
        "2 │ 7 8 9\n",
        "↑\n",
        "filas ``` </pre>"
      ],
      "metadata": {
        "id": "c5RJKlkfJpza"
      }
    },
    {
      "cell_type": "markdown",
      "source": [
        "## 🔪 SLICING — Seleccionar partes\n",
        "### Como si cortaras la tabla:"
      ],
      "metadata": {
        "id": "gh5wT7fKKUc-"
      }
    },
    {
      "cell_type": "code",
      "source": [
        "print(tabla[0])       # Primera fila -> [1 2 3]\n",
        "print(tabla[:, 0])    # Primera columna -> [1 4 7]\n",
        "print(tabla[1, 2])    # Fila 1, columna 2 -> 6"
      ],
      "metadata": {
        "colab": {
          "base_uri": "https://localhost:8080/"
        },
        "id": "bOPgz95nR7RR",
        "outputId": "55f62510-2289-4965-f195-0009b181f05f"
      },
      "execution_count": 8,
      "outputs": [
        {
          "output_type": "stream",
          "name": "stdout",
          "text": [
            "[1 2 3]\n",
            "[1 4 7]\n",
            "6\n"
          ]
        }
      ]
    },
    {
      "cell_type": "markdown",
      "source": [
        "| código       |  ¿Qué devuelve?     |\n",
        "|--------------|-------------------  |\n",
        "|tabla[0]      | Fila o completa     |\n",
        "|tabla [:, 0]  | Columna 0 completa  |\n",
        "|tabla[1, 2]   | Elemento fila 1,columna 2\n",
        "\n",
        "Se cuenta desde 0, como en Python, fila 1 es la segunda fila."
      ],
      "metadata": {
        "id": "jvONYY1GSe93"
      }
    },
    {
      "cell_type": "markdown",
      "source": [
        "## Operaciones con arrays 2D"
      ],
      "metadata": {
        "id": "EUoOlBlxVA5v"
      }
    },
    {
      "cell_type": "code",
      "source": [
        "print(\"Suma total:\", tabla.sum())\n",
        "print(\"Suma por filas:\", tabla.sum(axis=1))     # Horizontal\n",
        "print(\"Suma por columnas:\", tabla.sum(axis=0)) # Vertical\n",
        "\n",
        "# axis = 0 -> columna,\n",
        "# axis = 1 -> fila."
      ],
      "metadata": {
        "colab": {
          "base_uri": "https://localhost:8080/"
        },
        "id": "mRD3Yz2XVEvZ",
        "outputId": "2cd98821-739b-49a1-f392-6fbdf98209f3"
      },
      "execution_count": 9,
      "outputs": [
        {
          "output_type": "stream",
          "name": "stdout",
          "text": [
            "Suma total: 45\n",
            "Suma por filas: [ 6 15 24]\n",
            "Suma por columnas: [12 15 18]\n"
          ]
        }
      ]
    },
    {
      "cell_type": "markdown",
      "source": [
        "### 🧪 EJERCICIO 2 — Tu propia tabla\n",
        "#### * Crea una tabla NumPy de 3x4 con tus propios números.\n",
        "\n",
        "* Imprime:\n",
        "\n",
        "* La forma y dimensiones\n",
        "\n",
        "* Una fila y una columna\n",
        "\n",
        "* La suma total, por filas y por columnas\n",
        "\n"
      ],
      "metadata": {
        "id": "EVB0ZqX8V4Hb"
      }
    },
    {
      "cell_type": "code",
      "source": [
        "tabla2 = np.array([\n",
        "    [2, 4, 6, 2],\n",
        "    [3, 0, 2, 3],\n",
        "    [1, 5, 9, 7]\n",
        "\n",
        "])\n",
        "print(tabla2)\n",
        "print(\"Forma:\", tabla2.shape)           # Forma\n",
        "print(\"Dimensiones:\", tabla2.ndim)      # Dimensiones\n",
        "print(tabla2[1])                        # 1 fila\n",
        "print(tabla2[:, 1])                     # 1 columna\n",
        "print(\"La suma total es:\", tabla2.sum())"
      ],
      "metadata": {
        "colab": {
          "base_uri": "https://localhost:8080/"
        },
        "id": "HQlXwgGGWBYP",
        "outputId": "af88e06e-01b8-4933-b199-c9e922abab94"
      },
      "execution_count": 10,
      "outputs": [
        {
          "output_type": "stream",
          "name": "stdout",
          "text": [
            "[[2 4 6 2]\n",
            " [3 0 2 3]\n",
            " [1 5 9 7]]\n",
            "Forma: (3, 4)\n",
            "Dimensiones: 2\n",
            "[3 0 2 3]\n",
            "[4 0 5]\n",
            "La suma total es: 44\n"
          ]
        }
      ]
    },
    {
      "cell_type": "markdown",
      "source": [
        "## 🎓 LECCIÓN 3: Reshape — Cambiar la forma de un array\n",
        "\n"
      ],
      "metadata": {
        "id": "0RTV5l5LX6Wl"
      }
    },
    {
      "cell_type": "markdown",
      "source": [
        "### ¿Qué es reshape?\n",
        "#### Imagina que tienes una lista larga de números y quieres darle forma de tabla, o viceversa, sin cambiar los datos, solo su organización."
      ],
      "metadata": {
        "id": "mayH3f2qYEoZ"
      }
    },
    {
      "cell_type": "code",
      "source": [
        "a = np.array([1, 2, 3, 4, 5, 6])\n",
        "print(\"Array original:\", a)\n",
        "\n",
        "b = a.reshape((2, 3))  #Cambia a 2 filas y 3 columnas\n",
        "print(\"Array reshaped a 2 x 3:\\n\", b)"
      ],
      "metadata": {
        "colab": {
          "base_uri": "https://localhost:8080/"
        },
        "id": "87wkWZVgfw6S",
        "outputId": "e21ff80e-8714-46db-b178-bb3c6d1b7c7e"
      },
      "execution_count": 11,
      "outputs": [
        {
          "output_type": "stream",
          "name": "stdout",
          "text": [
            "Array original: [1 2 3 4 5 6]\n",
            "Array reshaped a 2 x 3:\n",
            " [[1 2 3]\n",
            " [4 5 6]]\n"
          ]
        }
      ]
    },
    {
      "cell_type": "markdown",
      "source": [
        "### 📝 Regla fundamental para reshape:\n",
        "El número total de elementos debe ser el mismo.\n",
        "En el ejemplo, a tiene 6 elementos, y b es un array 2x3 = 6 elementos"
      ],
      "metadata": {
        "id": "pm6IeQxugcoB"
      }
    },
    {
      "cell_type": "markdown",
      "source": [
        "####  ¿Y si pongo un número  -1 en reshape?\n",
        "####  -1 le dice a NumPy que calcule automáticamente esa dimensión."
      ],
      "metadata": {
        "id": "tYcX374ygnE0"
      }
    },
    {
      "cell_type": "code",
      "source": [
        "b = a.reshape((3, -1))   # 3 filas, columnas las que hagan falta\n",
        "print(b)\n",
        "# Es decir, con el -1, reshape calcula por si sola que poner ahi"
      ],
      "metadata": {
        "colab": {
          "base_uri": "https://localhost:8080/"
        },
        "id": "j8IBqwsigwZq",
        "outputId": "0201748c-6792-4e8f-efce-80ec538c0569"
      },
      "execution_count": 12,
      "outputs": [
        {
          "output_type": "stream",
          "name": "stdout",
          "text": [
            "[[1 2]\n",
            " [3 4]\n",
            " [5 6]]\n"
          ]
        }
      ]
    },
    {
      "cell_type": "markdown",
      "source": [
        "### 🧪 Ejercicio 3:\n",
        "* Crea un array con números del 1 al 12.\n",
        "\n",
        "* Cámbiale la forma a (3, 4).\n",
        "\n",
        "* Cámbiale la forma a (2, 6).\n",
        "\n",
        "* Cámbiale la forma a (-1, 3) y explica qué hace.\n",
        "\n"
      ],
      "metadata": {
        "id": "cP4ZrphKoC_W"
      }
    },
    {
      "cell_type": "code",
      "source": [
        " C = np.array([1, 2, 3, 4, 5, 6, 7, 8, 9, 10, 11, 12])\n",
        " print(C)\n",
        " forma1 = C.reshape((3, 4))   # Cambia a 3 filas y 4 columnas\n",
        " print(forma1)\n",
        " forma2 = C.reshape((2, 6))   # Cambia a 2 filas y 6 columnas\n",
        " print(forma2)\n",
        " forma3 = C.reshape(-1, 3)    # Cambia a 4 columnas y pone las filas que le parece\n",
        " print(forma3)"
      ],
      "metadata": {
        "colab": {
          "base_uri": "https://localhost:8080/"
        },
        "id": "KDSB-szCoNpw",
        "outputId": "9b508297-c722-4303-c798-ef1229e950d7"
      },
      "execution_count": 13,
      "outputs": [
        {
          "output_type": "stream",
          "name": "stdout",
          "text": [
            "[ 1  2  3  4  5  6  7  8  9 10 11 12]\n",
            "[[ 1  2  3  4]\n",
            " [ 5  6  7  8]\n",
            " [ 9 10 11 12]]\n",
            "[[ 1  2  3  4  5  6]\n",
            " [ 7  8  9 10 11 12]]\n",
            "[[ 1  2  3]\n",
            " [ 4  5  6]\n",
            " [ 7  8  9]\n",
            " [10 11 12]]\n"
          ]
        }
      ]
    },
    {
      "cell_type": "markdown",
      "source": [
        "## 🎓 LECCIÓN 4: Broadcasting — Operaciones entre arrays de distinta forma"
      ],
      "metadata": {
        "id": "RcUqgoU8qMqz"
      }
    },
    {
      "cell_type": "markdown",
      "source": [
        "### 🔥 ¿Qué es broadcasting?\n",
        "#### Broadcasting es lo que permite que NumPy combine arrays de distintas formas y tamaños sin necesidad de bucles.\n",
        "\n",
        "#### Gracias a esto, puedes hacer operaciones entre matrices y vectores sin escribir loops. NumPy ajusta los tamaños automáticamente si son compatibles."
      ],
      "metadata": {
        "id": "qiDZolWeqQOO"
      }
    },
    {
      "cell_type": "code",
      "source": [
        "# Sumar un numero a un array\n",
        "a = np.array([1, 2, 3])\n",
        "b = a + 10\n",
        "print(b)\n",
        "# NumPy expande el 10 para que se comporte como [10, 10, 10]"
      ],
      "metadata": {
        "colab": {
          "base_uri": "https://localhost:8080/"
        },
        "id": "Q4WnihNOqbye",
        "outputId": "a388c378-4a0f-4cd4-be07-c2cc8e6bb813"
      },
      "execution_count": 14,
      "outputs": [
        {
          "output_type": "stream",
          "name": "stdout",
          "text": [
            "[11 12 13]\n"
          ]
        }
      ]
    },
    {
      "cell_type": "code",
      "source": [
        "matriz = np.array([\n",
        "                   [1, 2, 3],\n",
        "                   [4, 5, 6]\n",
        "                   ])\n",
        "vector = np.array([10, 20, 30])\n",
        "resultado = matriz+ vector\n",
        "print(resultado)\n",
        "\n",
        "# Numpy expande automaticamente vector para que se repita por cada fila"
      ],
      "metadata": {
        "colab": {
          "base_uri": "https://localhost:8080/"
        },
        "id": "eHtl4Z1etCyx",
        "outputId": "cbc10131-5787-45a1-e288-7a55c1bd3090"
      },
      "execution_count": 15,
      "outputs": [
        {
          "output_type": "stream",
          "name": "stdout",
          "text": [
            "[[11 22 33]\n",
            " [14 25 36]]\n"
          ]
        }
      ]
    },
    {
      "cell_type": "code",
      "source": [
        "matriz = np.array([\n",
        "    [1, 2, 3],\n",
        "    [4, 5, 6]\n",
        "])\n",
        "pesos_columna = np.array([[1], [10]])    # 2 filas, 1 columna\n",
        "\n",
        "resultado = matriz * pesos_columna\n",
        "print(resultado)\n",
        "\n",
        "# el primer numero multiplica la primera fila\n",
        "# el segundo numero multiplica la segunda fila\n",
        "# este ejemplo es menos intuitivo pero muy ñutil en deep learning"
      ],
      "metadata": {
        "colab": {
          "base_uri": "https://localhost:8080/"
        },
        "id": "beGvpLibxHyo",
        "outputId": "e46c6a73-9951-43fe-9bf3-d6d587fa2e3f"
      },
      "execution_count": 16,
      "outputs": [
        {
          "output_type": "stream",
          "name": "stdout",
          "text": [
            "[[ 1  2  3]\n",
            " [40 50 60]]\n"
          ]
        }
      ]
    },
    {
      "cell_type": "markdown",
      "source": [
        "### 📏 ¿Cómo sabe NumPy si puede hacer broadcasting?\n",
        "#### Debe cumplir la regla de compatibilidad:\n",
        "\n",
        "* Si las dimensiones son iguales o una de ellas es 1, se pueden alinear.\n",
        "\n",
        "NumPy expande la dimensión 1 como si fuera un \"eco\" (broadcasting)."
      ],
      "metadata": {
        "id": "WCieDNzpsCQb"
      }
    },
    {
      "cell_type": "markdown",
      "source": [
        "### 🧪 Ejercicio 4:\n",
        "* Crea una matriz 3x3 con números del 1 al 9.\n",
        "\n",
        "* Súmale el vector [10, 20, 30] usando broadcasting.\n",
        "\n",
        "* Multiplica cada fila por un número diferente: [1], [2], [3]."
      ],
      "metadata": {
        "id": "58_j98sKyZO_"
      }
    },
    {
      "cell_type": "code",
      "source": [
        "matriz2 = np.array([\n",
        "    [1,2,3],\n",
        "    [4, 5, 6],\n",
        "    [7, 8, 9]\n",
        "])\n",
        "vector = [10, 20, 30]\n",
        "resultado_suma = matriz2 + vector\n",
        "print(resultado_suma)\n",
        "\n",
        "multiplicacion = np.array([[1], [2], [3]])\n",
        "resultado_producto = matriz2 * multiplicacion\n",
        "print(resultado_producto)"
      ],
      "metadata": {
        "colab": {
          "base_uri": "https://localhost:8080/"
        },
        "id": "kC_XDGIMywTP",
        "outputId": "2d8354a6-f442-4add-9e7b-d936846f1d7f"
      },
      "execution_count": 17,
      "outputs": [
        {
          "output_type": "stream",
          "name": "stdout",
          "text": [
            "[[11 22 33]\n",
            " [14 25 36]\n",
            " [17 28 39]]\n",
            "[[ 1  2  3]\n",
            " [ 8 10 12]\n",
            " [21 24 27]]\n"
          ]
        }
      ]
    },
    {
      "cell_type": "markdown",
      "source": [
        "## 🎓 LECCIÓN 5: Indexado booleano — Filtrar con condiciones"
      ],
      "metadata": {
        "id": "Fcanzo9-4c-c"
      }
    },
    {
      "cell_type": "markdown",
      "source": [
        "### 🧠 ¿Qué es el indexado booleano?\n",
        "#### Es una forma de elegir elementos de un array usando condiciones, como si aplicaras un filtro lógico."
      ],
      "metadata": {
        "id": "UujMzzx54h1P"
      }
    },
    {
      "cell_type": "code",
      "source": [
        "# Filtrar mayores de 5\n",
        "\n",
        "q = np.array([1, 3, 5, 7, 9])\n",
        "\n",
        "filtro = q > 5\n",
        "print(filtro) # [False False False True True]\n",
        "\n",
        "resultado = q[filtro]\n",
        "print(resultado)  # [7 9]\n",
        "\n",
        "# q > 5 devuelve un array de boleanos\n",
        "# luego usamos ese array para seleccionar los valores donde es True"
      ],
      "metadata": {
        "colab": {
          "base_uri": "https://localhost:8080/"
        },
        "id": "-n7Xm3124txB",
        "outputId": "edb4cabe-171c-44be-b55d-c105b1a7363d"
      },
      "execution_count": 18,
      "outputs": [
        {
          "output_type": "stream",
          "name": "stdout",
          "text": [
            "[False False False  True  True]\n",
            "[7 9]\n"
          ]
        }
      ]
    },
    {
      "cell_type": "code",
      "source": [
        "# Atajo directo\n",
        "print(q[q > 5])   #[7 9]"
      ],
      "metadata": {
        "colab": {
          "base_uri": "https://localhost:8080/"
        },
        "id": "4PH3uDaK6Xhm",
        "outputId": "06a3dffe-a01d-4131-f744-c54125e34076"
      },
      "execution_count": 19,
      "outputs": [
        {
          "output_type": "stream",
          "name": "stdout",
          "text": [
            "[7 9]\n"
          ]
        }
      ]
    },
    {
      "cell_type": "code",
      "source": [
        "# Condiciones combinadas\n",
        "\n",
        "b = np.array([10, 20, 30, 40, 50])\n",
        "\n",
        "# Seleccionar valores entre 15 y 45\n",
        "print(b[(b > 15)])    # [20 30 40]\n",
        "\n",
        "# Usa & para \"y\", | para \"o\"\n",
        "# Los parentesis son obligatorios"
      ],
      "metadata": {
        "colab": {
          "base_uri": "https://localhost:8080/"
        },
        "id": "plweiqNo6qQP",
        "outputId": "c5772739-9f0d-4a83-eb1b-1aa033a6f981"
      },
      "execution_count": 20,
      "outputs": [
        {
          "output_type": "stream",
          "name": "stdout",
          "text": [
            "[20 30 40 50]\n"
          ]
        }
      ]
    },
    {
      "cell_type": "code",
      "source": [
        "# En arrays 2D\n",
        "\n",
        "matriz = np.array([\n",
        "    [1, 2, 3],\n",
        "    [4, 5, 6],\n",
        "    [7, 8, 9]\n",
        "])\n",
        "\n",
        "# Para los mayores de 5\n",
        "print(matriz[matriz > 5])  # [6 7 8 9]"
      ],
      "metadata": {
        "colab": {
          "base_uri": "https://localhost:8080/"
        },
        "id": "uYtoHs_x_gCB",
        "outputId": "6258f1ea-789a-4a06-c347-23fb230018e0"
      },
      "execution_count": 21,
      "outputs": [
        {
          "output_type": "stream",
          "name": "stdout",
          "text": [
            "[6 7 8 9]\n"
          ]
        }
      ]
    },
    {
      "cell_type": "markdown",
      "source": [
        "### 🧪 Ejercicio 5:\n",
        "* Crea un array del 1 al 20.\n",
        "\n",
        "* Filtra todos los pares.\n",
        "\n",
        "* Filtra los múltiplos de 3 mayores que 10.\n",
        "\n",
        "* Con una matriz 4x5 del 1 al 20, selecciona los valores mayores que 15.\n",
        "\n"
      ],
      "metadata": {
        "id": "jAGeDitr_8tz"
      }
    },
    {
      "cell_type": "code",
      "source": [
        "e = np.array([1, 2, 3, 4, 5, 6, 7, 8, 9, 10, 11, 12, 13, 14, 15, 16, 17, 18, 19, 20])\n",
        "print(e[e % 2 == 0])\n",
        "print(e[(e % 3 == 0) & (e > 10)])\n",
        "r = e.reshape((4, 5))\n",
        "print(r)\n",
        "print(r[r > 15])"
      ],
      "metadata": {
        "colab": {
          "base_uri": "https://localhost:8080/"
        },
        "id": "f_TojF7jAEu1",
        "outputId": "e8e3538b-7386-4e28-e95c-5fa5d5ce93ef"
      },
      "execution_count": 22,
      "outputs": [
        {
          "output_type": "stream",
          "name": "stdout",
          "text": [
            "[ 2  4  6  8 10 12 14 16 18 20]\n",
            "[12 15 18]\n",
            "[[ 1  2  3  4  5]\n",
            " [ 6  7  8  9 10]\n",
            " [11 12 13 14 15]\n",
            " [16 17 18 19 20]]\n",
            "[16 17 18 19 20]\n"
          ]
        }
      ]
    },
    {
      "cell_type": "markdown",
      "source": [
        "## 🎓 LECCIÓN 6: Slicing avanzado — Acceder a partes de arrays"
      ],
      "metadata": {
        "id": "HXvDHoY6DJKf"
      }
    },
    {
      "cell_type": "markdown",
      "source": [
        "## 📌 ¿Qué es slicing?\n",
        "#### Slicing es cortar porciones de un array, como si usaras un cuchillo sobre los datos.\n",
        "\n",
        "#### En NumPy funciona igual que en Python, pero con soporte para arrays multidimensionales."
      ],
      "metadata": {
        "id": "2kLJBYf-Ggb6"
      }
    },
    {
      "cell_type": "code",
      "source": [
        "# Slicing en 1D\n",
        "a = np.array([10, 20, 30, 40, 50])\n",
        "print(a[1:4])   # [20 30 40]\n",
        "# Desde el índice 1 (inclusive) hasta el 4 (exclusivo)"
      ],
      "metadata": {
        "colab": {
          "base_uri": "https://localhost:8080/"
        },
        "id": "yh2nFKSwHPLV",
        "outputId": "7c459355-90de-4478-b0a3-57b0722ffe6b"
      },
      "execution_count": 23,
      "outputs": [
        {
          "output_type": "stream",
          "name": "stdout",
          "text": [
            "[20 30 40]\n"
          ]
        }
      ]
    },
    {
      "cell_type": "code",
      "source": [
        "# Slicing en 2D\n",
        "m = np.array([\n",
        "    [1, 2, 3],\n",
        "    [4, 5, 6],\n",
        "    [7, 8, 9]\n",
        "])\n",
        "# Formato: m[filas, columnas]"
      ],
      "metadata": {
        "id": "o9gudVSgHyL4"
      },
      "execution_count": 24,
      "outputs": []
    },
    {
      "cell_type": "code",
      "source": [
        "# Acceder a una fila\n",
        "print(m[0])      # [1 2 3]\n",
        "print(m[1, :])   # [4 5 6] -> fila 1, todas las columnas"
      ],
      "metadata": {
        "colab": {
          "base_uri": "https://localhost:8080/"
        },
        "id": "RhfdN7H1IKgX",
        "outputId": "dc63c79e-dfa5-4d79-94a6-13e3b284917c"
      },
      "execution_count": 25,
      "outputs": [
        {
          "output_type": "stream",
          "name": "stdout",
          "text": [
            "[1 2 3]\n",
            "[4 5 6]\n"
          ]
        }
      ]
    },
    {
      "cell_type": "code",
      "source": [
        "# Acceder a una columna\n",
        "print(m[:, 1])   #[2 5 8] -> todas las filas, columna 1"
      ],
      "metadata": {
        "colab": {
          "base_uri": "https://localhost:8080/"
        },
        "id": "lPDoli7ZIgez",
        "outputId": "69d7e3db-b863-47f1-ed96-aebf0bcc8700"
      },
      "execution_count": 26,
      "outputs": [
        {
          "output_type": "stream",
          "name": "stdout",
          "text": [
            "[2 5 8]\n"
          ]
        }
      ]
    },
    {
      "cell_type": "code",
      "source": [
        "# Submatriz\n",
        "print(m[0:2, 1:3])\n",
        "\n",
        "# Fila 0 y 1 (excluye la 2), columnas 1 y 2"
      ],
      "metadata": {
        "colab": {
          "base_uri": "https://localhost:8080/"
        },
        "id": "3uss3gpOIwRr",
        "outputId": "9292c67a-f757-487a-987c-ef722c23f920"
      },
      "execution_count": 27,
      "outputs": [
        {
          "output_type": "stream",
          "name": "stdout",
          "text": [
            "[[2 3]\n",
            " [5 6]]\n"
          ]
        }
      ]
    },
    {
      "cell_type": "code",
      "source": [
        "# índices negativos\n",
        "print(m[-1])    # Última fila -> [7 8 9]\n",
        "print(m[:, -1]) # Última columna -> [3 6 9]"
      ],
      "metadata": {
        "colab": {
          "base_uri": "https://localhost:8080/"
        },
        "id": "GIe7uvRVJCsK",
        "outputId": "320acd8b-59ad-4c28-a17b-1920da872299"
      },
      "execution_count": 28,
      "outputs": [
        {
          "output_type": "stream",
          "name": "stdout",
          "text": [
            "[7 8 9]\n",
            "[3 6 9]\n"
          ]
        }
      ]
    },
    {
      "cell_type": "code",
      "source": [
        "# Copias vs Vistas\n",
        "# Esto es peligroso si no sabes porque la matriz original cambia\n",
        "# sub aqui es una vista no una copia\n",
        "sub = m[0:2, 0:2]\n",
        "sub[0, 0] = 999\n",
        "print(m)\n",
        "# original: m = np.array([\n",
        "    # [1, 2],\n",
        "    # [3, 4]\n",
        "# ])\n",
        "\n",
        "# despues de igualar sub\n",
        "# print(m)\n",
        "# [[999   2]\n",
        "#  [  3   4]]"
      ],
      "metadata": {
        "id": "P8Np1itcJgav",
        "colab": {
          "base_uri": "https://localhost:8080/"
        },
        "outputId": "af027bc2-9269-48c6-8d15-87caae7ac3d0"
      },
      "execution_count": 29,
      "outputs": [
        {
          "output_type": "stream",
          "name": "stdout",
          "text": [
            "[[999   2   3]\n",
            " [  4   5   6]\n",
            " [  7   8   9]]\n"
          ]
        }
      ]
    },
    {
      "cell_type": "markdown",
      "source": [
        "### (la diferencia crucial entre = y .copy())\n",
        "\n",
        "#### Cuando haces sub = m[0:2, 0:2], no estás creando una nueva matriz, solo estás viendo (una vista) una parte de m.\n",
        "\n",
        "### Modificar sub ➜ modifica directamente m, porque ambas comparten la misma región de memoria."
      ],
      "metadata": {
        "id": "L7v3bjLBKZFk"
      }
    },
    {
      "cell_type": "code",
      "source": [
        "# Como evitar lo anterior usando .copy()\n",
        "# Esto si crea una copia real e independiente\n",
        "sub_copia = m[0:2, 0:2].copy()"
      ],
      "metadata": {
        "id": "3CfATGm7J-GH"
      },
      "execution_count": 30,
      "outputs": []
    },
    {
      "cell_type": "markdown",
      "source": [
        "### Ejercicios:\n",
        "* Extrae la fila 1 completa → [50, 60, 70, 80]\n",
        "\n",
        "* Extrae la columna 2 completa → [30, 70, 110]\n",
        "\n",
        "* Extrae la submatriz central\n",
        "* Extrae los 2 últimos valores de cada fila usando slicing, no índices directos.\n",
        "\n",
        "* Haz una copia de la submatriz del punto 3, modifica uno de sus valores, e imprime x para comprobar que no ha cambiado."
      ],
      "metadata": {
        "id": "QX4QPgyhm0UY"
      }
    },
    {
      "cell_type": "code",
      "source": [
        "# Este es el array que se usará para el ejercicio\n",
        "\n",
        "x = np.array([\n",
        "    [10, 20, 30, 40],\n",
        "    [50, 60, 70, 80],\n",
        "    [90, 100, 110, 120]\n",
        "])\n",
        "\n",
        "# Extrae la fila 1 completa\n",
        "print(x[1, :])\n",
        "\n",
        "# Extrae la columna 2 completa\n",
        "print(x[:, 2])\n",
        "\n",
        "# Extrae la submatriz central [60. 70] (Los numeros del centro)\n",
        "print(x[1:2, 1:3])\n",
        "\n",
        "# Extrae los 2 últimos valores de cada fila usando slicing, no índices directos\n",
        "print(x[:3, 2:])\n",
        "\n",
        "# Haz una copia de la submatriz del punto 3, modifica uno de sus valores, e imprime x para comprobar que no ha cambiado.\n",
        "nueva = x[:3, 2:]\n",
        "nueva = nueva + 10\n",
        "print(nueva)\n",
        "print(x)"
      ],
      "metadata": {
        "colab": {
          "base_uri": "https://localhost:8080/"
        },
        "id": "MQuhe7c7nCGW",
        "outputId": "070c8a8a-761c-47d8-ba4c-5a43359eea60"
      },
      "execution_count": 31,
      "outputs": [
        {
          "output_type": "stream",
          "name": "stdout",
          "text": [
            "[50 60 70 80]\n",
            "[ 30  70 110]\n",
            "[[60 70]]\n",
            "[[ 30  40]\n",
            " [ 70  80]\n",
            " [110 120]]\n",
            "[[ 40  50]\n",
            " [ 80  90]\n",
            " [120 130]]\n",
            "[[ 10  20  30  40]\n",
            " [ 50  60  70  80]\n",
            " [ 90 100 110 120]]\n"
          ]
        }
      ]
    },
    {
      "cell_type": "markdown",
      "source": [
        "## 🎓 LECCIÓN 7 — Estadísticas rápidas con NumPy\n",
        "### 📊 Funciones estadísticas básicas en NumPy"
      ],
      "metadata": {
        "id": "8fzjqXj5ss1F"
      }
    },
    {
      "cell_type": "markdown",
      "source": [
        "|Función\t    |Qué hace               |\n",
        "|-------------|-----------------------|\n",
        "|x.mean()     |Media aritmética       |\n",
        "|x.std()      |Desviación estándar    |\n",
        "|x.sum()      |Suma total             |\n",
        "|x.min()      |Valor mínimo           |\n",
        "|x.max()      |Valor máximo           |\n",
        "|x.argmin()   |Índice del valor mínimo|\n",
        "|x.argmax()   |Índice del valor máximo|"
      ],
      "metadata": {
        "id": "wyd2ZisZtKqq"
      }
    },
    {
      "cell_type": "code",
      "source": [
        "# argmin() y argmax() son muy útiles cuando quieres saber la posicion del mayor o menor valor\n",
        "# idx = x.argmax()\n",
        "# print(x[idx])    # imprime 50"
      ],
      "metadata": {
        "id": "uegu5HHguNyx"
      },
      "execution_count": 32,
      "outputs": []
    },
    {
      "cell_type": "code",
      "source": [
        "# Tambien funciona en matrices\n",
        "m = np.array([\n",
        "    [10, 20],\n",
        "    [30, 20]\n",
        "])\n",
        "\n",
        "print(m.mean())         # media total\n",
        "print(m.mean(axis=0))   # media por columna\n",
        "print(m.mean(axis=1))   # media por fila"
      ],
      "metadata": {
        "colab": {
          "base_uri": "https://localhost:8080/"
        },
        "id": "bKajfMxCuuZN",
        "outputId": "05e5e13a-ded3-448a-8c20-2020f688da6a"
      },
      "execution_count": 33,
      "outputs": [
        {
          "output_type": "stream",
          "name": "stdout",
          "text": [
            "20.0\n",
            "[20. 20.]\n",
            "[15. 25.]\n"
          ]
        }
      ]
    },
    {
      "cell_type": "markdown",
      "source": [
        "## Ejercicio\n",
        "\n",
        "* Calcula:\n",
        "\n",
        "  * La media general\n",
        "\n",
        "  * La media por filas\n",
        "\n",
        "  * La media por columnas\n",
        "\n",
        "* Calcula:\n",
        "\n",
        "  * El mínimo y el máximo\n",
        "\n",
        "  * Sus posiciones (argmin() y argmax())\n",
        "\n",
        "* Calcula la desviación estándar\n",
        "\n",
        "* Usa np.sum(y, axis=1) para sumar cada fila"
      ],
      "metadata": {
        "id": "HMfqZ99HvRwL"
      }
    },
    {
      "cell_type": "code",
      "source": [
        "# Este es el array que usaremos\n",
        "y = np.array([\n",
        "    [10, 20, 30],\n",
        "    [40, 50, 60],\n",
        "    [70, 80, 90]\n",
        "])\n",
        "\n",
        "# Media general\n",
        "print(y.mean())\n",
        "\n",
        "# Media por filas\n",
        "print(y.mean(axis=1))\n",
        "\n",
        "# Media por columna\n",
        "print(y.mean(axis = 0))\n",
        "\n",
        "# minimo\n",
        "print(y.min())\n",
        "\n",
        "# máximo\n",
        "print(y.max())\n",
        "\n",
        "# posicion del minimo y el máximo\n",
        "print(y.argmin())  # Posicion del minimo (su indice)\n",
        "print(y.argmax())  # Posicion del maximo (su indice)\n",
        "\n",
        "# Desviacion estandar\n",
        "print(y.std())\n",
        "\n",
        "# Suma de cada fila\n",
        "print(np.sum(y, axis=1))"
      ],
      "metadata": {
        "colab": {
          "base_uri": "https://localhost:8080/"
        },
        "id": "lgtZab8dv9qh",
        "outputId": "6db591e7-de56-4fbe-9b6d-4aac95c5f6ab"
      },
      "execution_count": 34,
      "outputs": [
        {
          "output_type": "stream",
          "name": "stdout",
          "text": [
            "50.0\n",
            "[20. 50. 80.]\n",
            "[40. 50. 60.]\n",
            "10\n",
            "90\n",
            "0\n",
            "8\n",
            "25.81988897471611\n",
            "[ 60 150 240]\n"
          ]
        }
      ]
    },
    {
      "cell_type": "markdown",
      "source": [
        "## 🎓 LECCIÓN 8: Funciones Universales (ufuncs)"
      ],
      "metadata": {
        "id": "xn_M6YGJxsEs"
      }
    },
    {
      "cell_type": "markdown",
      "source": [
        "### 🧠 ¿Qué son las ufuncs?\n",
        "#### Son funciones matemáticas rápidas y optimizadas que actúan elemento a elemento sobre arrays, sin que tengas que usar bucles.\n",
        "\n",
        "#### Ejemplos:\n",
        "\n",
        "|Función\t           |Significado|\n",
        "|--------------------|-----------|\n",
        "|np.sqrt(x)\t         |Raíz cuadrada|\n",
        "|np.exp(x)\t         |Exponencial|\n",
        "|np.log(x)\t         |Logaritmo natural|\n",
        "|np.sin(x)\t         |Seno|\n",
        "|np.round(x)\t       |Redondeo|\n",
        "|np.clip(x, min, max)|\t            Limita los valores entre mínimo y máximo|"
      ],
      "metadata": {
        "id": "KQspHcy-yBwu"
      }
    },
    {
      "cell_type": "code",
      "source": [
        "x = np.array([1, 2, 3, 4, 5])\n",
        "\n",
        "print(np.sqrt(x))     # raíz cuadrada\n",
        "print(np.exp(x))      # exponencial\n",
        "print(np.clip(x, 2, 4))  # fuerza los valores entre 2 y 4\n"
      ],
      "metadata": {
        "colab": {
          "base_uri": "https://localhost:8080/"
        },
        "id": "6K23EjTEzY2m",
        "outputId": "ebbbc351-7e2b-4d6d-ca33-fe39c1923cfa"
      },
      "execution_count": 35,
      "outputs": [
        {
          "output_type": "stream",
          "name": "stdout",
          "text": [
            "[1.         1.41421356 1.73205081 2.         2.23606798]\n",
            "[  2.71828183   7.3890561   20.08553692  54.59815003 148.4131591 ]\n",
            "[2 2 3 4 4]\n"
          ]
        }
      ]
    },
    {
      "cell_type": "markdown",
      "source": [
        "## Ejercicio:\n",
        "\n",
        "* Calcula la raíz cuadrada de x\n",
        "\n",
        "* Calcula el seno de x\n",
        "\n",
        "* Multiplica todos los elementos por π y redondéalos\n",
        "\n",
        "* Aplica clip(x, 3, 8) para limitar los valores entre 3 y 8\n"
      ],
      "metadata": {
        "id": "z0_7OA96zhPf"
      }
    },
    {
      "cell_type": "code",
      "source": [
        "# Creamos un array\n",
        "x = np.linspace(0, 10, 5)   # crea [0, 2.5, 5., 7.5, 10.]\n",
        "print(x)\n",
        "\n",
        "# Calcula la raiz cuadrada de x\n",
        "print(np.sqrt(x))\n",
        "\n",
        "# Calcula el seno de x\n",
        "print(np.sin(x))\n",
        "\n",
        "# Multiplica todos los elementos por π y redondéalos\n",
        "print(np.round(x * np.pi))\n",
        "\n",
        "# Aplica clip(x, 3, 8) para limitar los valores entre 3 y 8\n",
        "print(np.clip(x, 3, 8))\n"
      ],
      "metadata": {
        "colab": {
          "base_uri": "https://localhost:8080/"
        },
        "id": "Wy-4nYVh0PBR",
        "outputId": "86ea58b5-6804-4dce-95bc-0e8904f32b4d"
      },
      "execution_count": 36,
      "outputs": [
        {
          "output_type": "stream",
          "name": "stdout",
          "text": [
            "[ 0.   2.5  5.   7.5 10. ]\n",
            "[0.         1.58113883 2.23606798 2.73861279 3.16227766]\n",
            "[ 0.          0.59847214 -0.95892427  0.93799998 -0.54402111]\n",
            "[ 0.  8. 16. 24. 31.]\n",
            "[3.  3.  5.  7.5 8. ]\n"
          ]
        }
      ]
    },
    {
      "cell_type": "markdown",
      "source": [
        "## Resumen de lo visto en este Notebook\n",
        "* 🔢 1. Arrays de NumPy\n",
        "Crear arrays 1D, 2D y más.\n",
        "\n",
        "np.array, np.arange, np.linspace, np.zeros, np.ones.\n",
        "\n",
        "* 🧮 2. Operaciones vectorizadas\n",
        "Sumar, restar, multiplicar arrays directamente.\n",
        "\n",
        "Ventajas: rápidas, limpias, sin bucles.\n",
        "\n",
        "* 📐 3. Reshape y dimensiones\n",
        ".reshape() para cambiar forma de arrays.\n",
        "\n",
        ".ndim, .shape, .size.\n",
        "\n",
        "* 🔍 4. Indexing y slicing\n",
        "Cortar arrays como si fueran listas.\n",
        "\n",
        "Usar booleanos para filtrar con condiciones.\n",
        "\n",
        "* 🌈 5. Broadcasting\n",
        "Aplicar operaciones entre arrays de distinta forma automáticamente.\n",
        "\n",
        "Ej: array + escalar, matriz + vector.\n",
        "\n",
        "* 🪞 6. Copias vs vistas\n",
        "Arrays pueden compartir memoria (¡cuidado al modificar!).\n",
        "\n",
        ".copy() evita sorpresas.\n",
        "\n",
        "* ⚙️ 7. Funciones universales (ufuncs)\n",
        "np.sqrt(), np.sin(), np.exp(), np.clip(), etc.\n",
        "\n",
        "Operan elemento a elemento.\n",
        "\n",
        "* 📊 8. Funciones estadísticas\n",
        ".mean(), .std(), .sum(), .min(), .max(), .argmin(), .argmax().\n",
        "\n",
        "También con axis para filas o columnas."
      ],
      "metadata": {
        "id": "NkoH_Yrm28R9"
      }
    }
  ]
}